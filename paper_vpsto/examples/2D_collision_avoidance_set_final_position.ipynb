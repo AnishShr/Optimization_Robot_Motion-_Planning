{
 "cells": [
  {
   "cell_type": "code",
   "execution_count": 1,
   "metadata": {},
   "outputs": [],
   "source": [
    "import numpy as np\n",
    "from vpsto.vpsto import VPSTO, VPSTOOptions, VPSTOSolution\n",
    "import matplotlib.pyplot as plt\n",
    "import matplotlib.patches as patches\n",
    "from shapely.geometry import Polygon, MultiPolygon, LineString"
   ]
  },
  {
   "cell_type": "code",
   "execution_count": 2,
   "metadata": {},
   "outputs": [],
   "source": [
    "# Define some polygons for creating a collision environment\n",
    "class CollisionEnvironment():\n",
    "    def __init__(self):\n",
    "        self.poly_list = []\n",
    "        self.poly_list.append(np.array([[0.1, 0.13], [0.23, 0.12], [0.19, 0.28], [0.1, 0.32], [0.16, 0.2]]))\n",
    "        self.poly_list.append(np.array([[0.25, 0.34], [0.31, 0.35], [0.32, 0.41], [0.27, 0.44], [0.23, 0.4]]))\n",
    "        self.poly_list.append(np.array([[0.35, 0.12], [0.38, 0.1], [0.41, 0.11], [0.42, 0.21], [0.35, 0.24]]))\n",
    "        self.multi_poly = MultiPolygon([Polygon(self.poly_list[0]), Polygon(self.poly_list[1]), Polygon(self.poly_list[2])])\n",
    "        \n",
    "    def getTrajDist(self, pts):\n",
    "        return self.multi_poly.intersection(LineString(pts)).length"
   ]
  },
  {
   "cell_type": "code",
   "execution_count": 3,
   "metadata": {},
   "outputs": [],
   "source": [
    "q_min = 0.0*np.ones(2)\n",
    "q_max = 0.5*np.ones(2)\n",
    "def loss_limits(candidates):\n",
    "    q = candidates['pos']\n",
    "    d_min = np.maximum(np.zeros_like(q), - q + q_min)\n",
    "    d_max = np.maximum(np.zeros_like(q), q - q_max)\n",
    "    return np.sum(d_min > 0.0, axis=(1,2)) + np.sum(d_max > 0.0, axis=(1,2))\n",
    "\n",
    "env = CollisionEnvironment()\n",
    "def loss_collision(candidates): \n",
    "    costs = []\n",
    "    for traj in candidates['pos']:\n",
    "        costs.append(env.getTrajDist(traj))\n",
    "    costs = np.array(costs)\n",
    "    costs += costs > 0.0\n",
    "    return costs\n",
    "\n",
    "def loss_curvature(candidates):\n",
    "    dq = candidates['vel']\n",
    "    ddq = candidates['acc']\n",
    "    dq_sq = np.sum(dq**2, axis=-1)\n",
    "    ddq_sq = np.sum(ddq**2, axis=-1)\n",
    "    dq_ddq = np.sum(dq*ddq, axis=-1) \n",
    "    return np.mean((dq_sq * ddq_sq - dq_ddq**2) / (dq_sq**3 + 1e-6), axis=-1)\n",
    "\n",
    "def loss(candidates):\n",
    "    cost_curvature = loss_curvature(candidates)\n",
    "    cost_collision = loss_collision(candidates)\n",
    "    cost_limits = loss_limits(candidates)\n",
    "    return candidates['T'] + 1e-3 * cost_curvature + 1e3 * cost_collision + 1e3 * cost_limits"
   ]
  },
  {
   "cell_type": "code",
   "execution_count": 4,
   "metadata": {},
   "outputs": [],
   "source": [
    "# traj_opt = VPSTO(ndof=2)\n",
    "\n",
    "# traj_opt.opt.N_via = 5\n",
    "# traj_opt.opt.vel_lim = np.array([0.1, 0.1])\n",
    "# traj_opt.opt.acc_lim = np.array([0.5, 0.5])\n",
    "# traj_opt.opt.max_iter = 200"
   ]
  },
  {
   "cell_type": "code",
   "execution_count": 29,
   "metadata": {},
   "outputs": [],
   "source": [
    "opt = VPSTOOptions(ndof=2)\n",
    "opt.N_via = 2\n",
    "opt.N_eval = 200\n",
    "opt.pop_size = 500\n",
    "opt.log = True"
   ]
  },
  {
   "cell_type": "code",
   "execution_count": 30,
   "metadata": {},
   "outputs": [],
   "source": [
    "traj_opt = VPSTO(opt)\n",
    "traj_opt.ndof = 2\n",
    "traj_opt.vel_lim = np.array([0.1, 0.1])\n",
    "traj_opt.acc_lim = np.array([0.5, 0.5])"
   ]
  },
  {
   "cell_type": "code",
   "execution_count": 36,
   "metadata": {},
   "outputs": [],
   "source": [
    "q0 = np.array([0.1, 0.2]) # robot position\n",
    "qd = np.array([0.4, 0.3])  # desired robot position\n",
    "\n",
    "dq0 = np.array([0.1, 0.1])\n",
    "dqT = np.array([0, 0])"
   ]
  },
  {
   "cell_type": "code",
   "execution_count": 37,
   "metadata": {},
   "outputs": [
    {
     "name": "stdout",
     "output_type": "stream",
     "text": [
      "VP-STO finished after 55 iterations with a final loss of 1058.572535500583\n",
      "Movement duration:  5.252403063521814\n"
     ]
    }
   ],
   "source": [
    "sol = traj_opt.minimize(loss, q0=q0, qT=qd, dq0=dq0, dqT=dqT)\n",
    "\n",
    "t_traj = np.linspace(0, sol.T_best, 1000)\n",
    "# pos, vel, acc = sol.get_trajectory(t_traj)\n",
    "pos, vel, acc = sol.get_posvelacc(t_traj)\n",
    "\n",
    "print('Movement duration: ', sol.T_best)"
   ]
  },
  {
   "cell_type": "code",
   "execution_count": 46,
   "metadata": {},
   "outputs": [
    {
     "data": {
      "text/plain": [
       "500"
      ]
     },
     "execution_count": 46,
     "metadata": {},
     "output_type": "execute_result"
    }
   ],
   "source": [
    "len(sol.candidates['pos'])"
   ]
  },
  {
   "cell_type": "code",
   "execution_count": 57,
   "metadata": {},
   "outputs": [
    {
     "data": {
      "text/plain": [
       "array([[0.1       , 0.2       ],\n",
       "       [0.1026021 , 0.20262907],\n",
       "       [0.1051305 , 0.20523745],\n",
       "       [0.10758649, 0.20782505],\n",
       "       [0.10997139, 0.21039177],\n",
       "       [0.11228649, 0.2129375 ],\n",
       "       [0.11453308, 0.21546214],\n",
       "       [0.11671246, 0.21796559],\n",
       "       [0.11882593, 0.22044776],\n",
       "       [0.12087478, 0.22290854],\n",
       "       [0.12286032, 0.22534784],\n",
       "       [0.12478385, 0.22776554],\n",
       "       [0.12664665, 0.23016156],\n",
       "       [0.12845004, 0.23253578],\n",
       "       [0.1301953 , 0.23488812],\n",
       "       [0.13188373, 0.23721846],\n",
       "       [0.13351663, 0.23952672],\n",
       "       [0.13509531, 0.24181278],\n",
       "       [0.13662105, 0.24407655],\n",
       "       [0.13809516, 0.24631793],\n",
       "       [0.13951892, 0.24853682],\n",
       "       [0.14089365, 0.25073311],\n",
       "       [0.14222064, 0.25290671],\n",
       "       [0.14350118, 0.25505752],\n",
       "       [0.14473658, 0.25718543],\n",
       "       [0.14592813, 0.25929034],\n",
       "       [0.14707713, 0.26137216],\n",
       "       [0.14818487, 0.26343078],\n",
       "       [0.14925266, 0.26546611],\n",
       "       [0.15028179, 0.26747804],\n",
       "       [0.15127356, 0.26946647],\n",
       "       [0.15222927, 0.27143131],\n",
       "       [0.15315022, 0.27337244],\n",
       "       [0.15403769, 0.27528978],\n",
       "       [0.154893  , 0.27718321],\n",
       "       [0.15571744, 0.27905265],\n",
       "       [0.15651231, 0.28089799],\n",
       "       [0.1572789 , 0.28271912],\n",
       "       [0.15801851, 0.28451596],\n",
       "       [0.15873244, 0.28628839],\n",
       "       [0.15942199, 0.28803632],\n",
       "       [0.16008846, 0.28975965],\n",
       "       [0.16073314, 0.29145827],\n",
       "       [0.16135733, 0.29313209],\n",
       "       [0.16196233, 0.29478101],\n",
       "       [0.16254943, 0.29640492],\n",
       "       [0.16311994, 0.29800372],\n",
       "       [0.16367515, 0.29957732],\n",
       "       [0.16421637, 0.30112562],\n",
       "       [0.16474488, 0.30264851],\n",
       "       [0.16526198, 0.30414589],\n",
       "       [0.16576898, 0.30561766],\n",
       "       [0.16626717, 0.30706372],\n",
       "       [0.16675784, 0.30848398],\n",
       "       [0.16724231, 0.30987833],\n",
       "       [0.16772186, 0.31124667],\n",
       "       [0.16819779, 0.31258889],\n",
       "       [0.16867139, 0.31390491],\n",
       "       [0.16914398, 0.31519462],\n",
       "       [0.16961684, 0.31645791],\n",
       "       [0.17009128, 0.3176947 ],\n",
       "       [0.17056859, 0.31890487],\n",
       "       [0.17105006, 0.32008833],\n",
       "       [0.171537  , 0.32124497],\n",
       "       [0.17203071, 0.32237471],\n",
       "       [0.17253247, 0.32347742],\n",
       "       [0.1730436 , 0.32455302],\n",
       "       [0.17356538, 0.32560141],\n",
       "       [0.17409912, 0.32662248],\n",
       "       [0.17464611, 0.32761614],\n",
       "       [0.17520765, 0.32858228],\n",
       "       [0.17578504, 0.3295208 ],\n",
       "       [0.17637958, 0.33043161],\n",
       "       [0.17699256, 0.33131459],\n",
       "       [0.17762528, 0.33216966],\n",
       "       [0.17827904, 0.33299671],\n",
       "       [0.17895514, 0.33379564],\n",
       "       [0.17965487, 0.33456635],\n",
       "       [0.18037954, 0.33530874],\n",
       "       [0.18113043, 0.33602271],\n",
       "       [0.18190886, 0.33670815],\n",
       "       [0.18271611, 0.33736498],\n",
       "       [0.18355348, 0.33799308],\n",
       "       [0.18442227, 0.33859236],\n",
       "       [0.18532379, 0.33916272],\n",
       "       [0.18625932, 0.33970405],\n",
       "       [0.18723016, 0.34021626],\n",
       "       [0.18823762, 0.34069925],\n",
       "       [0.18928299, 0.3411529 ],\n",
       "       [0.19036757, 0.34157714],\n",
       "       [0.19149265, 0.34197185],\n",
       "       [0.19265954, 0.34233693],\n",
       "       [0.19386952, 0.34267228],\n",
       "       [0.19512391, 0.34297781],\n",
       "       [0.19642399, 0.3432534 ],\n",
       "       [0.19777107, 0.34349897],\n",
       "       [0.19916644, 0.34371442],\n",
       "       [0.2006114 , 0.34389963],\n",
       "       [0.20210724, 0.34405451],\n",
       "       [0.20365528, 0.34417896],\n",
       "       [0.20525674, 0.34427289],\n",
       "       [0.20691157, 0.34433656],\n",
       "       [0.20861841, 0.34437054],\n",
       "       [0.21037586, 0.34437543],\n",
       "       [0.2121825 , 0.34435182],\n",
       "       [0.21403692, 0.34430031],\n",
       "       [0.21593771, 0.34422149],\n",
       "       [0.21788345, 0.34411597],\n",
       "       [0.21987274, 0.34398433],\n",
       "       [0.22190416, 0.34382718],\n",
       "       [0.22397631, 0.3436451 ],\n",
       "       [0.22608777, 0.3434387 ],\n",
       "       [0.22823712, 0.34320857],\n",
       "       [0.23042296, 0.34295531],\n",
       "       [0.23264388, 0.3426795 ],\n",
       "       [0.23489846, 0.34238175],\n",
       "       [0.23718529, 0.34206266],\n",
       "       [0.23950297, 0.34172281],\n",
       "       [0.24185007, 0.34136281],\n",
       "       [0.24422519, 0.34098324],\n",
       "       [0.24662692, 0.34058471],\n",
       "       [0.24905384, 0.34016782],\n",
       "       [0.25150454, 0.33973315],\n",
       "       [0.25397762, 0.3392813 ],\n",
       "       [0.25647165, 0.33881287],\n",
       "       [0.25898523, 0.33832845],\n",
       "       [0.26151695, 0.33782865],\n",
       "       [0.2640654 , 0.33731405],\n",
       "       [0.26662915, 0.33678525],\n",
       "       [0.26920681, 0.33624285],\n",
       "       [0.27179696, 0.33568744],\n",
       "       [0.27439819, 0.33511962],\n",
       "       [0.27700908, 0.33453998],\n",
       "       [0.27962823, 0.33394913],\n",
       "       [0.28225422, 0.33334765],\n",
       "       [0.28488564, 0.33273614],\n",
       "       [0.28752108, 0.33211519],\n",
       "       [0.29015914, 0.33148541],\n",
       "       [0.29279839, 0.33084739],\n",
       "       [0.29543742, 0.33020173],\n",
       "       [0.29807483, 0.32954901],\n",
       "       [0.3007092 , 0.32888984],\n",
       "       [0.30333912, 0.32822481],\n",
       "       [0.30596318, 0.32755451],\n",
       "       [0.30857997, 0.32687955],\n",
       "       [0.31118807, 0.32620052],\n",
       "       [0.31378608, 0.32551801],\n",
       "       [0.31637258, 0.32483263],\n",
       "       [0.31894616, 0.32414495],\n",
       "       [0.32150541, 0.32345559],\n",
       "       [0.32404892, 0.32276514],\n",
       "       [0.32657528, 0.32207419],\n",
       "       [0.32908307, 0.32138334],\n",
       "       [0.33157088, 0.32069318],\n",
       "       [0.3340373 , 0.32000431],\n",
       "       [0.33648093, 0.31931733],\n",
       "       [0.33890034, 0.31863283],\n",
       "       [0.34129413, 0.3179514 ],\n",
       "       [0.34366088, 0.31727365],\n",
       "       [0.34599919, 0.31660017],\n",
       "       [0.34830764, 0.31593155],\n",
       "       [0.35058481, 0.31526839],\n",
       "       [0.35282931, 0.31461129],\n",
       "       [0.35503972, 0.31396084],\n",
       "       [0.35721461, 0.31331764],\n",
       "       [0.3593526 , 0.31268228],\n",
       "       [0.36145225, 0.31205535],\n",
       "       [0.36351217, 0.31143747],\n",
       "       [0.36553093, 0.31082921],\n",
       "       [0.36750714, 0.31023118],\n",
       "       [0.36943936, 0.30964397],\n",
       "       [0.37132621, 0.30906817],\n",
       "       [0.37316625, 0.30850439],\n",
       "       [0.37495809, 0.30795322],\n",
       "       [0.3767003 , 0.30741526],\n",
       "       [0.37839148, 0.30689109],\n",
       "       [0.38003022, 0.30638132],\n",
       "       [0.3816151 , 0.30588654],\n",
       "       [0.38314472, 0.30540735],\n",
       "       [0.38461766, 0.30494434],\n",
       "       [0.3860325 , 0.30449811],\n",
       "       [0.38738785, 0.30406925],\n",
       "       [0.38868228, 0.30365837],\n",
       "       [0.38991439, 0.30326605],\n",
       "       [0.39108276, 0.30289289],\n",
       "       [0.39218598, 0.30253949],\n",
       "       [0.39322264, 0.30220644],\n",
       "       [0.39419133, 0.30189434],\n",
       "       [0.39509064, 0.30160379],\n",
       "       [0.39591915, 0.30133537],\n",
       "       [0.39667545, 0.30108969],\n",
       "       [0.39735814, 0.30086735],\n",
       "       [0.3979658 , 0.30066893],\n",
       "       [0.39849701, 0.30049503],\n",
       "       [0.39895038, 0.30034625],\n",
       "       [0.39932448, 0.30022319],\n",
       "       [0.3996179 , 0.30012644],\n",
       "       [0.39982924, 0.30005659],\n",
       "       [0.39995707, 0.30001425],\n",
       "       [0.4       , 0.3       ]])"
      ]
     },
     "execution_count": 57,
     "metadata": {},
     "output_type": "execute_result"
    }
   ],
   "source": [
    "traj_test = sol.candidates['pos'][0]\n",
    "traj_test"
   ]
  },
  {
   "cell_type": "code",
   "execution_count": 58,
   "metadata": {},
   "outputs": [],
   "source": [
    "obs_x = np.array([40, 60])\n",
    "obs_y = np.array([-20, 0])\n",
    "obs_a = 5\n",
    "obs_b = 1.5"
   ]
  },
  {
   "cell_type": "code",
   "execution_count": 59,
   "metadata": {},
   "outputs": [],
   "source": [
    "traj_x = traj_test[:, 0]\n",
    "traj_y = traj_test[:, 1]"
   ]
  },
  {
   "cell_type": "code",
   "execution_count": 62,
   "metadata": {},
   "outputs": [],
   "source": [
    "cost_coll = ((traj_x - obs_x[:, np.newaxis])/((2*obs_a))**2) - ((traj_y - obs_y[:, np.newaxis])/(2*obs_b)**2) + 1"
   ]
  },
  {
   "cell_type": "code",
   "execution_count": 71,
   "metadata": {
    "scrolled": true
   },
   "outputs": [
    {
     "data": {
      "text/plain": [
       "array([[-1.64344444, -1.64371054, -1.64397508, -1.64423803, -1.64449937,\n",
       "        -1.64475908, -1.64501713, -1.6452735 , -1.64552816, -1.64578109,\n",
       "        -1.64603227, -1.64628167, -1.64652926, -1.64677503, -1.64701895,\n",
       "        -1.64726099, -1.64750114, -1.64773936, -1.64797563, -1.64820993,\n",
       "        -1.64844224, -1.64867252, -1.64890076, -1.64912693, -1.64935101,\n",
       "        -1.64957298, -1.6497928 , -1.65001046, -1.65022593, -1.65043919,\n",
       "        -1.65065021, -1.65085896, -1.65106544, -1.6512696 , -1.65147143,\n",
       "        -1.6516709 , -1.65186799, -1.65206267, -1.65225492, -1.65244472,\n",
       "        -1.65263204, -1.65281685, -1.65299914, -1.65317888, -1.65335604,\n",
       "        -1.65353061, -1.65370255, -1.65387184, -1.65403846, -1.65420239,\n",
       "        -1.65436359, -1.65452205, -1.65467774, -1.65483064, -1.65498072,\n",
       "        -1.65512797, -1.65527234, -1.65541383, -1.65555241, -1.65568804,\n",
       "        -1.65582072, -1.65595041, -1.65607709, -1.65620074, -1.65632133,\n",
       "        -1.65643883, -1.65655323, -1.6566645 , -1.65677262, -1.65687755,\n",
       "        -1.65697929, -1.65707779, -1.65717305, -1.65726503, -1.65735371,\n",
       "        -1.65743907, -1.65752108, -1.65759971, -1.65767495, -1.65774677,\n",
       "        -1.65781515, -1.65788006, -1.65794147, -1.65799937, -1.65805373,\n",
       "        -1.65810452, -1.65815173, -1.65819532, -1.65823527, -1.65827156,\n",
       "        -1.65830417, -1.65833306, -1.65835822, -1.65837963, -1.65839725,\n",
       "        -1.65841106, -1.65842105, -1.65842718, -1.65842943, -1.65842778,\n",
       "        -1.6584222 , -1.65841272, -1.65839943, -1.6583824 , -1.65836171,\n",
       "        -1.65833744, -1.65830968, -1.6582785 , -1.65824398, -1.6582062 ,\n",
       "        -1.65816525, -1.6581212 , -1.65807414, -1.65802414, -1.65797128,\n",
       "        -1.65791565, -1.65785733, -1.65779639, -1.65773292, -1.657667  ,\n",
       "        -1.6575987 , -1.65752811, -1.6574553 , -1.65738037, -1.65730338,\n",
       "        -1.65722442, -1.65714357, -1.65706091, -1.65697651, -1.65689047,\n",
       "        -1.65680286, -1.65671375, -1.65662324, -1.6565314 , -1.65643831,\n",
       "        -1.65634405, -1.6562487 , -1.65615234, -1.65605506, -1.65595693,\n",
       "        -1.65585803, -1.65575845, -1.65565825, -1.65555754, -1.65545637,\n",
       "        -1.65535484, -1.65525303, -1.65515101, -1.65504887, -1.65494668,\n",
       "        -1.65484453, -1.65474249, -1.65464065, -1.65453909, -1.65443788,\n",
       "        -1.65433712, -1.65423687, -1.65413721, -1.65403824, -1.65394003,\n",
       "        -1.65384265, -1.6537462 , -1.65365074, -1.65355636, -1.65346315,\n",
       "        -1.65337117, -1.65328052, -1.65319126, -1.65310349, -1.65301728,\n",
       "        -1.65293271, -1.65284987, -1.65276883, -1.65268967, -1.65261247,\n",
       "        -1.65253732, -1.65246429, -1.65239346, -1.65232492, -1.65225875,\n",
       "        -1.65219502, -1.65213382, -1.65207522, -1.65201931, -1.65196616,\n",
       "        -1.65191586, -1.65186849, -1.65182412, -1.65178285, -1.65174474,\n",
       "        -1.65170988, -1.65167835, -1.65165022, -1.65162559, -1.65160452,\n",
       "        -1.65158711, -1.65157343, -1.65156355, -1.65155757, -1.65155556],\n",
       "       [ 0.37877778,  0.37851168,  0.37824714,  0.37798419,  0.37772285,\n",
       "         0.37746314,  0.37720509,  0.37694873,  0.37669406,  0.37644113,\n",
       "         0.37618995,  0.37594056,  0.37569296,  0.37544719,  0.37520327,\n",
       "         0.37496123,  0.37472109,  0.37448287,  0.37424659,  0.37401229,\n",
       "         0.37377999,  0.3735497 ,  0.37332146,  0.37309529,  0.37287121,\n",
       "         0.37264924,  0.37242942,  0.37221176,  0.37199629,  0.37178304,\n",
       "         0.37157202,  0.37136326,  0.37115679,  0.37095262,  0.3707508 ,\n",
       "         0.37055132,  0.37035424,  0.37015955,  0.3699673 ,  0.3697775 ,\n",
       "         0.36959018,  0.36940537,  0.36922308,  0.36904334,  0.36886618,\n",
       "         0.36869161,  0.36851967,  0.36835038,  0.36818376,  0.36801984,\n",
       "         0.36785863,  0.36770017,  0.36754448,  0.36739158,  0.3672415 ,\n",
       "         0.36709426,  0.36694988,  0.36680839,  0.36666982,  0.36653418,\n",
       "         0.3664015 ,  0.36627181,  0.36614513,  0.36602148,  0.3659009 ,\n",
       "         0.36578339,  0.36566899,  0.36555772,  0.3654496 ,  0.36534467,\n",
       "         0.36524293,  0.36514443,  0.36504917,  0.36495719,  0.36486851,\n",
       "         0.36478316,  0.36470115,  0.36462251,  0.36454727,  0.36447545,\n",
       "         0.36440707,  0.36434216,  0.36428075,  0.36422285,  0.36416849,\n",
       "         0.3641177 ,  0.36407049,  0.3640269 ,  0.36398695,  0.36395066,\n",
       "         0.36391805,  0.36388916,  0.363864  ,  0.36384259,  0.36382497,\n",
       "         0.36381116,  0.36380117,  0.36379504,  0.36379279,  0.36379445,\n",
       "         0.36380002,  0.3638095 ,  0.36382279,  0.36383982,  0.36386051,\n",
       "         0.36388478,  0.36391254,  0.36394373,  0.36397825,  0.36401602,\n",
       "         0.36405697,  0.36410102,  0.36414809,  0.36419808,  0.36425094,\n",
       "         0.36430657,  0.36436489,  0.36442583,  0.3644893 ,  0.36455523,\n",
       "         0.36462352,  0.36469411,  0.36476692,  0.36484185,  0.36491884,\n",
       "         0.3649978 ,  0.36507865,  0.36516132,  0.36524571,  0.36533175,\n",
       "         0.36541937,  0.36550847,  0.36559898,  0.36569082,  0.36578391,\n",
       "         0.36587817,  0.36597352,  0.36606988,  0.36616716,  0.36626529,\n",
       "         0.36636419,  0.36646378,  0.36656397,  0.36666469,  0.36676585,\n",
       "         0.36686738,  0.36696919,  0.36707121,  0.36717336,  0.36727554,\n",
       "         0.3673777 ,  0.36747973,  0.36758157,  0.36768313,  0.36778434,\n",
       "         0.36788511,  0.36798536,  0.36808501,  0.36818398,  0.3682822 ,\n",
       "         0.36837957,  0.36847603,  0.36857148,  0.36866586,  0.36875908,\n",
       "         0.36885105,  0.36894171,  0.36903096,  0.36911873,  0.36920494,\n",
       "         0.36928951,  0.36937235,  0.3694534 ,  0.36953256,  0.36960975,\n",
       "         0.36968491,  0.36975793,  0.36982876,  0.3698973 ,  0.36996347,\n",
       "         0.3700272 ,  0.37008841,  0.370147  ,  0.37020292,  0.37025606,\n",
       "         0.37030636,  0.37035373,  0.3703981 ,  0.37043937,  0.37047748,\n",
       "         0.37051234,  0.37054388,  0.370572  ,  0.37059663,  0.3706177 ,\n",
       "         0.37063511,  0.3706488 ,  0.37065867,  0.37066465,  0.37066667]])"
      ]
     },
     "execution_count": 71,
     "metadata": {},
     "output_type": "execute_result"
    }
   ],
   "source": [
    "cost_coll"
   ]
  },
  {
   "cell_type": "code",
   "execution_count": 68,
   "metadata": {},
   "outputs": [],
   "source": [
    "effective_cost_coll = np.sum(cost_coll, axis=0)"
   ]
  },
  {
   "cell_type": "code",
   "execution_count": 72,
   "metadata": {},
   "outputs": [
    {
     "data": {
      "text/plain": [
       "array([-1.26466667, -1.26519886, -1.26572794, -1.26625384, -1.26677652,\n",
       "       -1.26729594, -1.26781204, -1.26832477, -1.2688341 , -1.26933996,\n",
       "       -1.26984231, -1.27034111, -1.2708363 , -1.27132784, -1.27181568,\n",
       "       -1.27229976, -1.27278005, -1.27325649, -1.27372904, -1.27419764,\n",
       "       -1.27466225, -1.27512282, -1.2755793 , -1.27603165, -1.27647981,\n",
       "       -1.27692374, -1.27736338, -1.2777987 , -1.27822964, -1.27865615,\n",
       "       -1.27907819, -1.2794957 , -1.27990865, -1.28031697, -1.28072063,\n",
       "       -1.28111957, -1.28151375, -1.28190312, -1.28228762, -1.28266722,\n",
       "       -1.28304185, -1.28341149, -1.28377606, -1.28413554, -1.28448987,\n",
       "       -1.28483899, -1.28518287, -1.28552146, -1.2858547 , -1.28618255,\n",
       "       -1.28650496, -1.28682188, -1.28713326, -1.28743906, -1.28773923,\n",
       "       -1.28803371, -1.28832247, -1.28860544, -1.28888259, -1.28915387,\n",
       "       -1.28941922, -1.2896786 , -1.28993196, -1.29017925, -1.29042043,\n",
       "       -1.29065544, -1.29088424, -1.29110678, -1.29132301, -1.29153289,\n",
       "       -1.29173635, -1.29193337, -1.29212388, -1.29230784, -1.2924852 ,\n",
       "       -1.29265591, -1.29281993, -1.2929772 , -1.29312768, -1.29327133,\n",
       "       -1.29340808, -1.2935379 , -1.29366073, -1.29377652, -1.29388524,\n",
       "       -1.29398683, -1.29408123, -1.29416841, -1.29424832, -1.2943209 ,\n",
       "       -1.29438611, -1.2944439 , -1.29449423, -1.29453703, -1.29457228,\n",
       "       -1.29459991, -1.29461987, -1.29463213, -1.29463663, -1.29463333,\n",
       "       -1.29462218, -1.29460323, -1.29457664, -1.29454258, -1.2945012 ,\n",
       "       -1.29445266, -1.29439713, -1.29433477, -1.29426573, -1.29419018,\n",
       "       -1.29410827, -1.29402018, -1.29392605, -1.29382605, -1.29372034,\n",
       "       -1.29360909, -1.29349244, -1.29337056, -1.29324362, -1.29311177,\n",
       "       -1.29297518, -1.29283399, -1.29268839, -1.29253851, -1.29238454,\n",
       "       -1.29222662, -1.29206492, -1.29189959, -1.29173081, -1.29155872,\n",
       "       -1.29138349, -1.29120529, -1.29102426, -1.29084057, -1.29065439,\n",
       "       -1.29046587, -1.29027518, -1.29008247, -1.2898879 , -1.28969164,\n",
       "       -1.28949384, -1.28929467, -1.28909429, -1.28889285, -1.28869052,\n",
       "       -1.28848747, -1.28828384, -1.2880798 , -1.28787551, -1.28767113,\n",
       "       -1.28746683, -1.28726276, -1.28705908, -1.28685596, -1.28665354,\n",
       "       -1.28645201, -1.28625151, -1.28605221, -1.28585426, -1.28565783,\n",
       "       -1.28546308, -1.28527017, -1.28507926, -1.2848905 , -1.28470407,\n",
       "       -1.28452012, -1.28433881, -1.2841603 , -1.28398476, -1.28381234,\n",
       "       -1.28364321, -1.28347751, -1.28331543, -1.28315711, -1.28300272,\n",
       "       -1.28285241, -1.28270635, -1.28256471, -1.28242763, -1.28229528,\n",
       "       -1.28216782, -1.28204541, -1.28192821, -1.28181639, -1.2817101 ,\n",
       "       -1.2816095 , -1.28151476, -1.28142603, -1.28134347, -1.28126726,\n",
       "       -1.28119753, -1.28113447, -1.28107822, -1.28102896, -1.28098683,\n",
       "       -1.280952  , -1.28092463, -1.28090488, -1.28089291, -1.28088889])"
      ]
     },
     "execution_count": 72,
     "metadata": {},
     "output_type": "execute_result"
    }
   ],
   "source": [
    "effective_cost_coll"
   ]
  },
  {
   "cell_type": "code",
   "execution_count": 38,
   "metadata": {},
   "outputs": [
    {
     "data": {
      "image/png": "[encoded data removed]",
      "text/plain": [
       "<Figure size 432x432 with 2 Axes>"
      ]
     },
     "metadata": {
      "needs_background": "light"
     },
     "output_type": "display_data"
    },
    {
     "data": {
      "image/png": "[encoded data removed]",
      "text/plain": [
       "<Figure size 864x216 with 1 Axes>"
      ]
     },
     "metadata": {
      "needs_background": "light"
     },
     "output_type": "display_data"
    },
    {
     "data": {
      "image/png": "[encoded data removed]",
      "text/plain": [
       "<Figure size 864x216 with 1 Axes>"
      ]
     },
     "metadata": {
      "needs_background": "light"
     },
     "output_type": "display_data"
    }
   ],
   "source": [
    "plt.figure(figsize=(6,6))\n",
    "\n",
    "plt.xlim([q_min[0], q_max[0]])\n",
    "plt.ylim([q_min[1], q_max[1]])\n",
    "ax = plt.axes()\n",
    "\n",
    "plt.scatter([q0[0], qd[0]],[q0[1], qd[1]])\n",
    "for pol in env.poly_list:\n",
    "    ax.add_patch(patches.Polygon(pol, facecolor = 'gray'))\n",
    "\n",
    "plt.plot(pos[:,0], pos[:,1])\n",
    "plt.tight_layout()\n",
    "\n",
    "plt.figure(figsize=(12, 3))\n",
    "plt.grid()\n",
    "plt.title('Velocity Profile')\n",
    "plt.plot(t_traj, vel)\n",
    "plt.tight_layout()\n",
    "\n",
    "plt.figure(figsize=(12, 3))\n",
    "plt.grid()\n",
    "plt.title('Acceleration Profile')\n",
    "plt.plot(t_traj, acc)\n",
    "plt.tight_layout()"
   ]
  },
  {
   "cell_type": "code",
   "execution_count": null,
   "metadata": {},
   "outputs": [],
   "source": []
  }
 ],
 "metadata": {
  "kernelspec": {
   "display_name": "Python 3 (ipykernel)",
   "language": "python",
   "name": "python3"
  },
  "language_info": {
   "codemirror_mode": {
    "name": "ipython",
    "version": 3
   },
   "file_extension": ".py",
   "mimetype": "text/x-python",
   "name": "python",
   "nbconvert_exporter": "python",
   "pygments_lexer": "ipython3",
   "version": "3.9.7"
  }
 },
 "nbformat": 4,
 "nbformat_minor": 4
}
