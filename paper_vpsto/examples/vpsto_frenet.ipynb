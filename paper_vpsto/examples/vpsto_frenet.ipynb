{
 "cells": [
  {
   "cell_type": "code",
   "execution_count": 7,
   "id": "f8642dc6",
   "metadata": {},
   "outputs": [],
   "source": [
    "import numpy as np\n",
    "from vpsto.vpsto import VPSTO, VPSTOOptions, VPSTOSolution\n",
    "import matplotlib.pyplot as plt"
   ]
  },
  {
   "cell_type": "code",
   "execution_count": 8,
   "id": "7cb8f3f5",
   "metadata": {},
   "outputs": [],
   "source": [
    "x_init = 0\n",
    "y_init = 0\n",
    "\n",
    "x_lim = [0, 50]\n",
    "y_lim = [-10, 10]\n",
    "\n",
    "obs_x=[10, 30, 20]\n",
    "obs_y=[0, 5, -5]\n",
    "\n",
    "obs_a = 2.5\n",
    "obs_b = 0.5\n"
   ]
  },
  {
   "cell_type": "code",
   "execution_count": 9,
   "id": "9706f123",
   "metadata": {},
   "outputs": [],
   "source": [
    "def create_points(x_init, y_init, x_lim, y_lim, mesh_size):\n",
    "    x_min, x_max = x_lim\n",
    "    y_min, y_max = y_lim\n",
    "    \n",
    "    x_pt = np.linspace(x_min + 2, x_max, mesh_size)\n",
    "    y_pt = np.linspace(y_min, y_max, mesh_size)\n",
    "    \n",
    "    points_x = []\n",
    "    points_y = []\n",
    "\n",
    "    for x in x_pt:\n",
    "        points_x.append(x)\n",
    "        points_y.append(0)\n",
    "\n",
    "    for x in x_pt:\n",
    "        for y in y_pt:\n",
    "            points_x.append(x)\n",
    "            points_y.append(y)\n",
    "            \n",
    "    return np.array(points_x), np.array(points_y)\n",
    "    \n",
    "    "
   ]
  },
  {
   "cell_type": "code",
   "execution_count": 10,
   "id": "03c521ee",
   "metadata": {},
   "outputs": [],
   "source": [
    "points_x, points_y = create_points(x_init, y_init, x_lim, y_lim, 20)"
   ]
  },
  {
   "cell_type": "code",
   "execution_count": 11,
   "id": "1d224012",
   "metadata": {},
   "outputs": [
    {
     "data": {
      "image/png": "[encoded data removed]",
      "text/plain": [
       "<Figure size 1080x576 with 1 Axes>"
      ]
     },
     "metadata": {
      "needs_background": "light"
     },
     "output_type": "display_data"
    }
   ],
   "source": [
    "plt.figure(figsize=(15, 8))\n",
    "plt.scatter(points_x, points_y)\n",
    "\n",
    "t = np.linspace(0, 2*np.pi, 100)\n",
    "for i in range(len(obs_x)):\n",
    "  plt.plot(obs_x[i]+obs_a*np.cos(t) , obs_y[i]+obs_b*np.sin(t) , \"--\", color=\"black\")\n",
    "\n",
    "plt.plot(x_init+obs_a*np.cos(t) , y_init+obs_b*np.sin(t) , \"--\", color=\"red\")\n",
    "\n",
    "plt.xlim([-5, 55])\n",
    "plt.ylim([-12, 12])\n",
    "plt.grid()\n",
    "plt.show()"
   ]
  },
  {
   "cell_type": "code",
   "execution_count": 12,
   "id": "f3dd7ff8",
   "metadata": {},
   "outputs": [
    {
     "data": {
      "text/plain": [
       "(420,)"
      ]
     },
     "execution_count": 12,
     "metadata": {},
     "output_type": "execute_result"
    }
   ],
   "source": [
    "points_x.shape"
   ]
  },
  {
   "cell_type": "code",
   "execution_count": 13,
   "id": "663d06e3",
   "metadata": {},
   "outputs": [
    {
     "data": {
      "text/plain": [
       "(420,)"
      ]
     },
     "execution_count": 13,
     "metadata": {},
     "output_type": "execute_result"
    }
   ],
   "source": [
    "points_y.shape"
   ]
  },
  {
   "cell_type": "code",
   "execution_count": 14,
   "id": "ed45b872",
   "metadata": {},
   "outputs": [],
   "source": [
    "def compute_cumutative_collision_cost(x, y, obs_x, obs_y, obs_a, obs_b):\n",
    "    obs_x = np.array(obs_x).reshape(len(obs_x), 1)\n",
    "    obs_y = np.array(obs_y).reshape(len(obs_y), 1)\n",
    "\n",
    "    # cost_collision = -((x - obs_x[:, np.newaxis])/((2*obs_a)))**2 - ((y - obs_y[:, np.newaxis])/(obs_b))**2 + 1\n",
    "    cost_collision = np.maximum(np.zeros(x.shape), -((x - obs_x[:, np.newaxis])/((2*obs_a+0.5)))**2 - ((y - obs_y[:, np.newaxis])/(2*obs_b+0.5))**2 + 1) \n",
    "\n",
    "    # print(cost_collision.shape)\n",
    "    cost_collision_combined = np.sum(cost_collision, axis=0)\n",
    "    # print(cost_collision_combined.shape)\n",
    "    \n",
    "    final_cost_collision = cost_collision_combined[0]    \n",
    "\n",
    "    return final_cost_collision"
   ]
  },
  {
   "cell_type": "code",
   "execution_count": 15,
   "id": "aab54d01",
   "metadata": {},
   "outputs": [],
   "source": [
    "final_cost_collision = compute_cumutative_collision_cost(points_x, \n",
    "                                                         points_y,\n",
    "                                                         obs_x,\n",
    "                                                         obs_y,\n",
    "                                                         obs_a,\n",
    "                                                         obs_b)"
   ]
  },
  {
   "cell_type": "code",
   "execution_count": 17,
   "id": "7c48885c",
   "metadata": {},
   "outputs": [
    {
     "data": {
      "text/plain": [
       "array([0.        , 0.00954648, 0.71282709, 0.99413933, 0.85348321,\n",
       "       0.29085873, 0.        , 0.        , 0.        , 0.        ,\n",
       "       0.        , 0.        , 0.        , 0.        , 0.        ,\n",
       "       0.        , 0.        , 0.        , 0.        , 0.        ,\n",
       "       0.        , 0.        , 0.        , 0.        , 0.        ,\n",
       "       0.        , 0.        , 0.        , 0.        , 0.        ,\n",
       "       0.        , 0.        , 0.        , 0.        , 0.        ,\n",
       "       0.        , 0.        , 0.        , 0.        , 0.        ,\n",
       "       0.        , 0.        , 0.        , 0.        , 0.        ,\n",
       "       0.        , 0.        , 0.        , 0.        , 0.        ,\n",
       "       0.        , 0.        , 0.        , 0.        , 0.        ,\n",
       "       0.        , 0.        , 0.        , 0.        , 0.        ,\n",
       "       0.        , 0.        , 0.        , 0.        , 0.        ,\n",
       "       0.        , 0.        , 0.        , 0.        , 0.58971228,\n",
       "       0.58971228, 0.        , 0.        , 0.        , 0.        ,\n",
       "       0.        , 0.        , 0.        , 0.        , 0.        ,\n",
       "       0.        , 0.        , 0.        , 0.        , 0.        ,\n",
       "       0.        , 0.        , 0.        , 0.        , 0.87102452,\n",
       "       0.87102452, 0.        , 0.        , 0.        , 0.        ,\n",
       "       0.        , 0.        , 0.        , 0.        , 0.        ,\n",
       "       0.        , 0.        , 0.        , 0.        , 0.        ,\n",
       "       0.        , 0.        , 0.        , 0.        , 0.7303684 ,\n",
       "       0.7303684 , 0.        , 0.        , 0.        , 0.        ,\n",
       "       0.        , 0.        , 0.        , 0.        , 0.        ,\n",
       "       0.        , 0.        , 0.        , 0.        , 0.        ,\n",
       "       0.01649586, 0.        , 0.        , 0.        , 0.16774392,\n",
       "       0.16774392, 0.        , 0.        , 0.        , 0.        ,\n",
       "       0.        , 0.        , 0.        , 0.        , 0.        ,\n",
       "       0.        , 0.        , 0.        , 0.        , 0.45596484,\n",
       "       0.70219445, 0.        , 0.        , 0.        , 0.        ,\n",
       "       0.        , 0.        , 0.        , 0.        , 0.        ,\n",
       "       0.        , 0.        , 0.        , 0.        , 0.        ,\n",
       "       0.        , 0.        , 0.        , 0.        , 0.71969506,\n",
       "       0.96592467, 0.22723584, 0.        , 0.        , 0.        ,\n",
       "       0.        , 0.        , 0.        , 0.        , 0.        ,\n",
       "       0.        , 0.        , 0.        , 0.        , 0.        ,\n",
       "       0.        , 0.        , 0.        , 0.        , 0.56145693,\n",
       "       0.80768654, 0.06899771, 0.        , 0.        , 0.        ,\n",
       "       0.        , 0.        , 0.        , 0.        , 0.        ,\n",
       "       0.        , 0.        , 0.        , 0.        , 0.        ,\n",
       "       0.        , 0.        , 0.        , 0.        , 0.        ,\n",
       "       0.22748004, 0.        , 0.        , 0.        , 0.        ,\n",
       "       0.        , 0.        , 0.        , 0.        , 0.05349135,\n",
       "       0.        , 0.        , 0.        , 0.        , 0.        ,\n",
       "       0.        , 0.        , 0.        , 0.        , 0.        ,\n",
       "       0.        , 0.        , 0.        , 0.        , 0.        ,\n",
       "       0.        , 0.        , 0.        , 0.        , 0.72160792,\n",
       "       0.47537831, 0.        , 0.        , 0.        , 0.        ,\n",
       "       0.        , 0.        , 0.        , 0.        , 0.        ,\n",
       "       0.        , 0.        , 0.        , 0.        , 0.        ,\n",
       "       0.        , 0.        , 0.        , 0.2290673 , 0.96775613,\n",
       "       0.72152652, 0.        , 0.        , 0.        , 0.        ,\n",
       "       0.        , 0.        , 0.        , 0.        , 0.        ,\n",
       "       0.        , 0.        , 0.        , 0.        , 0.        ,\n",
       "       0.        , 0.        , 0.        , 0.05324715, 0.79193598,\n",
       "       0.54570637, 0.        , 0.        , 0.        , 0.        ,\n",
       "       0.        , 0.        , 0.        , 0.        , 0.        ,\n",
       "       0.        , 0.        , 0.        , 0.        , 0.        ,\n",
       "       0.        , 0.        , 0.        , 0.        , 0.19414747,\n",
       "       0.        , 0.        , 0.        , 0.        , 0.        ,\n",
       "       0.        , 0.        , 0.        , 0.        , 0.        ,\n",
       "       0.        , 0.        , 0.        , 0.        , 0.        ,\n",
       "       0.        , 0.        , 0.        , 0.        , 0.        ,\n",
       "       0.        , 0.        , 0.        , 0.        , 0.        ,\n",
       "       0.        , 0.        , 0.        , 0.        , 0.        ,\n",
       "       0.        , 0.        , 0.        , 0.        , 0.        ,\n",
       "       0.        , 0.        , 0.        , 0.        , 0.        ,\n",
       "       0.        , 0.        , 0.        , 0.        , 0.        ,\n",
       "       0.        , 0.        , 0.        , 0.        , 0.        ,\n",
       "       0.        , 0.        , 0.        , 0.        , 0.        ,\n",
       "       0.        , 0.        , 0.        , 0.        , 0.        ,\n",
       "       0.        , 0.        , 0.        , 0.        , 0.        ,\n",
       "       0.        , 0.        , 0.        , 0.        , 0.        ,\n",
       "       0.        , 0.        , 0.        , 0.        , 0.        ,\n",
       "       0.        , 0.        , 0.        , 0.        , 0.        ,\n",
       "       0.        , 0.        , 0.        , 0.        , 0.        ,\n",
       "       0.        , 0.        , 0.        , 0.        , 0.        ,\n",
       "       0.        , 0.        , 0.        , 0.        , 0.        ,\n",
       "       0.        , 0.        , 0.        , 0.        , 0.        ,\n",
       "       0.        , 0.        , 0.        , 0.        , 0.        ,\n",
       "       0.        , 0.        , 0.        , 0.        , 0.        ,\n",
       "       0.        , 0.        , 0.        , 0.        , 0.        ,\n",
       "       0.        , 0.        , 0.        , 0.        , 0.        ,\n",
       "       0.        , 0.        , 0.        , 0.        , 0.        ])"
      ]
     },
     "execution_count": 17,
     "metadata": {},
     "output_type": "execute_result"
    }
   ],
   "source": [
    "final_cost_collision"
   ]
  }
 ],
 "metadata": {
  "kernelspec": {
   "display_name": "Python 3 (ipykernel)",
   "language": "python",
   "name": "python3"
  },
  "language_info": {
   "codemirror_mode": {
    "name": "ipython",
    "version": 3
   },
   "file_extension": ".py",
   "mimetype": "text/x-python",
   "name": "python",
   "nbconvert_exporter": "python",
   "pygments_lexer": "ipython3",
   "version": "3.9.7"
  }
 },
 "nbformat": 4,
 "nbformat_minor": 5
}
