{
 "cells": [
  {
   "cell_type": "code",
   "execution_count": 1,
   "metadata": {},
   "outputs": [],
   "source": [
    "import numpy as np\n",
    "from vpsto.vpsto import VPSTO, VPSTOOptions, VPSTOSolution\n",
    "import matplotlib.pyplot as plt\n",
    "import matplotlib.patches as patches\n",
    "from shapely.geometry import Polygon, MultiPolygon, LineString"
   ]
  },
  {
   "cell_type": "code",
   "execution_count": 2,
   "metadata": {},
   "outputs": [],
   "source": [
    "# Define some polygons for creating a collision environment\n",
    "class CollisionEnvironment():\n",
    "    def __init__(self):\n",
    "        self.poly_list = []\n",
    "        self.poly_list.append(np.array([[0.1, 0.13], [0.23, 0.12], [0.19, 0.28], [0.1, 0.32], [0.16, 0.2]]))\n",
    "        self.poly_list.append(np.array([[0.25, 0.34], [0.31, 0.35], [0.32, 0.41], [0.27, 0.44], [0.23, 0.4]]))\n",
    "        self.poly_list.append(np.array([[0.35, 0.12], [0.38, 0.1], [0.41, 0.11], [0.42, 0.21], [0.35, 0.24]]))\n",
    "        self.multi_poly = MultiPolygon([Polygon(self.poly_list[0]), Polygon(self.poly_list[1]), Polygon(self.poly_list[2])])\n",
    "        \n",
    "    def getTrajDist(self, pts):\n",
    "        return self.multi_poly.intersection(LineString(pts)).length"
   ]
  },
  {
   "cell_type": "code",
   "execution_count": 3,
   "metadata": {},
   "outputs": [],
   "source": [
    "q_min = 0.0*np.ones(2)\n",
    "q_max = 0.5*np.ones(2)\n",
    "def loss_limits(candidates):\n",
    "    q = candidates['pos']\n",
    "    d_min = np.maximum(np.zeros_like(q), - q + q_min)\n",
    "    d_max = np.maximum(np.zeros_like(q), q - q_max)\n",
    "    return np.sum(d_min > 0.0, axis=(1,2)) + np.sum(d_max > 0.0, axis=(1,2))\n",
    "\n",
    "env = CollisionEnvironment()\n",
    "def loss_collision(candidates): \n",
    "    costs = []\n",
    "    for traj in candidates['pos']:\n",
    "        costs.append(env.getTrajDist(traj))\n",
    "    costs = np.array(costs)\n",
    "    costs += costs > 0.0\n",
    "    return costs\n",
    "\n",
    "def loss_curvature(candidates):\n",
    "    dq = candidates['vel']\n",
    "    ddq = candidates['acc']\n",
    "    dq_sq = np.sum(dq**2, axis=-1)\n",
    "    ddq_sq = np.sum(ddq**2, axis=-1)\n",
    "    dq_ddq = np.sum(dq*ddq, axis=-1) \n",
    "    return np.mean((dq_sq * ddq_sq - dq_ddq**2) / (dq_sq**3 + 1e-6), axis=-1)\n",
    "\n",
    "def loss(candidates):\n",
    "    cost_curvature = loss_curvature(candidates)\n",
    "    cost_collision = loss_collision(candidates)\n",
    "    cost_limits = loss_limits(candidates)\n",
    "    return candidates['T'] + 1e-3 * cost_curvature + 1e3 * cost_collision + 1e3 * cost_limits"
   ]
  },
  {
   "cell_type": "code",
   "execution_count": 4,
   "metadata": {},
   "outputs": [],
   "source": [
    "# traj_opt = VPSTO(ndof=2)\n",
    "\n",
    "# traj_opt.opt.N_via = 5\n",
    "# traj_opt.opt.vel_lim = np.array([0.1, 0.1])\n",
    "# traj_opt.opt.acc_lim = np.array([0.5, 0.5])\n",
    "# traj_opt.opt.max_iter = 200"
   ]
  },
  {
   "cell_type": "code",
   "execution_count": 10,
   "metadata": {},
   "outputs": [],
   "source": [
    "opt = VPSTOOptions(ndof=2)\n",
    "opt.N_via = 2\n",
    "opt.N_eval = 200\n",
    "opt.pop_size = 200\n",
    "opt.log = True\n",
    "traj_opt = VPSTO(opt)"
   ]
  },
  {
   "cell_type": "code",
   "execution_count": 11,
   "metadata": {},
   "outputs": [],
   "source": [
    "traj_opt.ndof = 2"
   ]
  },
  {
   "cell_type": "code",
   "execution_count": 12,
   "metadata": {},
   "outputs": [],
   "source": [
    "q0 = np.array([0.1, 0.2]) # robot position\n",
    "qd = np.array([0.4, 0.3])  # desired robot position"
   ]
  },
  {
   "cell_type": "code",
   "execution_count": 13,
   "metadata": {},
   "outputs": [
    {
     "name": "stdout",
     "output_type": "stream",
     "text": [
      "Either T or dqT must be given. Setting dqT to zero.\n",
      "VP-STO finished after 92 iterations with a final loss of 7.2204317063819135\n",
      "Movement duration:  7.218001573673945\n"
     ]
    }
   ],
   "source": [
    "sol = traj_opt.minimize(loss, q0=q0, qT=qd)\n",
    "\n",
    "t_traj = np.linspace(0, sol.T_best, 1000)\n",
    "# pos, vel, acc = sol.get_trajectory(t_traj)\n",
    "pos, vel, acc = sol.get_posvelacc(t_traj)\n",
    "\n",
    "print('Movement duration: ', sol.T_best)"
   ]
  },
  {
   "cell_type": "code",
   "execution_count": 18,
   "metadata": {},
   "outputs": [
    {
     "data": {
      "text/plain": [
       "92"
      ]
     },
     "execution_count": 18,
     "metadata": {},
     "output_type": "execute_result"
    }
   ],
   "source": [
    "len(sol.candidates_list)"
   ]
  },
  {
   "cell_type": "code",
   "execution_count": 19,
   "metadata": {},
   "outputs": [
    {
     "data": {
      "text/plain": [
       "array([[0.25481141, 0.2457488 ],\n",
       "       [0.22223332, 0.28976594],\n",
       "       [0.23690275, 0.22984128],\n",
       "       [0.20306032, 0.25870033],\n",
       "       [0.18666365, 0.33552867],\n",
       "       [0.30302274, 0.25082581],\n",
       "       [0.27792926, 0.24719701],\n",
       "       [0.3245238 , 0.2441329 ],\n",
       "       [0.25423685, 0.23870936],\n",
       "       [0.25355853, 0.20248045],\n",
       "       [0.27293172, 0.23725313],\n",
       "       [0.30502801, 0.24461928],\n",
       "       [0.25522173, 0.23839235],\n",
       "       [0.236906  , 0.28996751],\n",
       "       [0.21841651, 0.25379197],\n",
       "       [0.21430746, 0.25723   ],\n",
       "       [0.31029675, 0.24028968],\n",
       "       [0.22424606, 0.21253674],\n",
       "       [0.25147721, 0.30085743],\n",
       "       [0.18154995, 0.26331098],\n",
       "       [0.25531906, 0.26632161],\n",
       "       [0.22741549, 0.24721105],\n",
       "       [0.24794063, 0.2568533 ],\n",
       "       [0.27805163, 0.26038894],\n",
       "       [0.23888982, 0.27833885],\n",
       "       [0.27913133, 0.25565534],\n",
       "       [0.25193865, 0.22066939],\n",
       "       [0.30447486, 0.25737583],\n",
       "       [0.24429221, 0.28158668],\n",
       "       [0.23528303, 0.24275623],\n",
       "       [0.18489248, 0.15914767],\n",
       "       [0.27688733, 0.19842408],\n",
       "       [0.23180103, 0.19081938],\n",
       "       [0.19978445, 0.28247088],\n",
       "       [0.29755247, 0.23878948],\n",
       "       [0.25374425, 0.24955803],\n",
       "       [0.29236132, 0.30379467],\n",
       "       [0.27587387, 0.21190485],\n",
       "       [0.29267285, 0.23308214],\n",
       "       [0.22629852, 0.17769033],\n",
       "       [0.25350541, 0.21267599],\n",
       "       [0.29092336, 0.2291539 ],\n",
       "       [0.32720064, 0.26089891],\n",
       "       [0.25528746, 0.24709471],\n",
       "       [0.21201648, 0.25094708],\n",
       "       [0.25737408, 0.3189347 ],\n",
       "       [0.22743156, 0.25198544],\n",
       "       [0.28996493, 0.24547462],\n",
       "       [0.17952385, 0.19511429],\n",
       "       [0.25899   , 0.31030739],\n",
       "       [0.22574031, 0.20850146],\n",
       "       [0.26060199, 0.27118326],\n",
       "       [0.23928293, 0.23482875],\n",
       "       [0.24353126, 0.27400914],\n",
       "       [0.24735157, 0.2885734 ],\n",
       "       [0.26253339, 0.25643963],\n",
       "       [0.26232954, 0.28635178],\n",
       "       [0.24103396, 0.22103919],\n",
       "       [0.31123456, 0.29333555],\n",
       "       [0.28352051, 0.20738749],\n",
       "       [0.21399386, 0.23719988],\n",
       "       [0.2496482 , 0.19682453],\n",
       "       [0.23222322, 0.31641002],\n",
       "       [0.26927937, 0.19347234],\n",
       "       [0.26870622, 0.25015768],\n",
       "       [0.25119835, 0.23179527],\n",
       "       [0.25410408, 0.17565903],\n",
       "       [0.22655892, 0.29724893],\n",
       "       [0.26009017, 0.27378311],\n",
       "       [0.22308584, 0.17048359],\n",
       "       [0.27499043, 0.31886019],\n",
       "       [0.21097602, 0.26374418],\n",
       "       [0.2736634 , 0.24622092],\n",
       "       [0.21911396, 0.26800943],\n",
       "       [0.25160952, 0.30798077],\n",
       "       [0.22644656, 0.22736722],\n",
       "       [0.24872759, 0.25206172],\n",
       "       [0.25897691, 0.25782165],\n",
       "       [0.25125811, 0.26859828],\n",
       "       [0.26741958, 0.31802878],\n",
       "       [0.29332815, 0.21181436],\n",
       "       [0.26569642, 0.23486245],\n",
       "       [0.26566851, 0.21876673],\n",
       "       [0.22333572, 0.29429084],\n",
       "       [0.31284655, 0.31557587],\n",
       "       [0.21150947, 0.2263383 ],\n",
       "       [0.1971259 , 0.22553934],\n",
       "       [0.26764312, 0.30333585],\n",
       "       [0.24748481, 0.21974042],\n",
       "       [0.31737743, 0.19802484],\n",
       "       [0.28089677, 0.23302693],\n",
       "       [0.22119533, 0.26973943],\n",
       "       [0.24329142, 0.19329449],\n",
       "       [0.28211312, 0.24546784],\n",
       "       [0.25821174, 0.166362  ],\n",
       "       [0.2645391 , 0.27177231],\n",
       "       [0.27617494, 0.27975282],\n",
       "       [0.3279555 , 0.25838645],\n",
       "       [0.25158938, 0.22406964],\n",
       "       [0.22771831, 0.30574589],\n",
       "       [0.28571203, 0.19891814],\n",
       "       [0.23872414, 0.28265586],\n",
       "       [0.27481077, 0.20591104],\n",
       "       [0.23449603, 0.24890157],\n",
       "       [0.25948227, 0.32504753],\n",
       "       [0.22374283, 0.28270453],\n",
       "       [0.17720399, 0.31229186],\n",
       "       [0.26380458, 0.27764374],\n",
       "       [0.30760064, 0.22797539],\n",
       "       [0.26062474, 0.28444394],\n",
       "       [0.26835663, 0.28870326],\n",
       "       [0.26169051, 0.20670312],\n",
       "       [0.26854321, 0.32167352],\n",
       "       [0.27381085, 0.2438885 ],\n",
       "       [0.2474644 , 0.27709991],\n",
       "       [0.24573553, 0.2189304 ],\n",
       "       [0.24746983, 0.35602435],\n",
       "       [0.27803209, 0.26050049],\n",
       "       [0.23270919, 0.19689468],\n",
       "       [0.25648239, 0.19633538],\n",
       "       [0.20886515, 0.20017049],\n",
       "       [0.21131494, 0.25447861],\n",
       "       [0.19123629, 0.1992772 ],\n",
       "       [0.31213944, 0.32543886],\n",
       "       [0.20355365, 0.25278699],\n",
       "       [0.26884141, 0.23810982],\n",
       "       [0.32741874, 0.23883082],\n",
       "       [0.19899113, 0.21349171],\n",
       "       [0.26105724, 0.2386978 ],\n",
       "       [0.24554108, 0.18655105],\n",
       "       [0.20415784, 0.25156298],\n",
       "       [0.33112081, 0.21395159],\n",
       "       [0.25251887, 0.22648136],\n",
       "       [0.26311525, 0.25425026],\n",
       "       [0.23904862, 0.2387766 ],\n",
       "       [0.20546822, 0.29999625],\n",
       "       [0.25273385, 0.25235301],\n",
       "       [0.25169344, 0.21346747],\n",
       "       [0.21281289, 0.25158478],\n",
       "       [0.29765236, 0.27801941],\n",
       "       [0.30307202, 0.2196001 ],\n",
       "       [0.26300819, 0.31542045],\n",
       "       [0.24911525, 0.28433473],\n",
       "       [0.29671484, 0.15756032],\n",
       "       [0.24981135, 0.22226307],\n",
       "       [0.25324215, 0.22097564],\n",
       "       [0.20908766, 0.25855775],\n",
       "       [0.26943093, 0.23622841],\n",
       "       [0.33728174, 0.25187067],\n",
       "       [0.29879185, 0.2240468 ],\n",
       "       [0.2452673 , 0.23348144],\n",
       "       [0.2258787 , 0.28202136],\n",
       "       [0.24231997, 0.25792271],\n",
       "       [0.27654248, 0.23257925],\n",
       "       [0.29366696, 0.23224784],\n",
       "       [0.2425082 , 0.25970308],\n",
       "       [0.26009837, 0.24230898],\n",
       "       [0.2487646 , 0.18529977],\n",
       "       [0.21866153, 0.31190435],\n",
       "       [0.31092563, 0.27356464],\n",
       "       [0.24813621, 0.2378689 ],\n",
       "       [0.33598405, 0.26799239],\n",
       "       [0.23376549, 0.25266758],\n",
       "       [0.28834717, 0.22213007],\n",
       "       [0.23957728, 0.21824736],\n",
       "       [0.3086745 , 0.29042928],\n",
       "       [0.24586333, 0.25173969],\n",
       "       [0.29524037, 0.26341478],\n",
       "       [0.22695608, 0.19980203],\n",
       "       [0.19244452, 0.27732183],\n",
       "       [0.22013473, 0.25739662],\n",
       "       [0.24964936, 0.23539935],\n",
       "       [0.22223813, 0.2516734 ],\n",
       "       [0.2767085 , 0.24839424],\n",
       "       [0.20791669, 0.24553218],\n",
       "       [0.23092715, 0.18739361],\n",
       "       [0.20984573, 0.23826267],\n",
       "       [0.25622289, 0.29954725],\n",
       "       [0.26593352, 0.20741808],\n",
       "       [0.18121968, 0.2350954 ],\n",
       "       [0.25493145, 0.2916576 ],\n",
       "       [0.26610388, 0.24751217],\n",
       "       [0.29772492, 0.24562762],\n",
       "       [0.27443159, 0.27786847],\n",
       "       [0.2879565 , 0.21235062],\n",
       "       [0.23938434, 0.28914382],\n",
       "       [0.24497711, 0.20257144],\n",
       "       [0.27106946, 0.26366588],\n",
       "       [0.21976914, 0.18525832],\n",
       "       [0.23133862, 0.25618036],\n",
       "       [0.23091071, 0.25418529],\n",
       "       [0.22901386, 0.19992472],\n",
       "       [0.2656794 , 0.17427205],\n",
       "       [0.23360268, 0.28538785],\n",
       "       [0.24872982, 0.29783204],\n",
       "       [0.24551853, 0.13662798],\n",
       "       [0.21234625, 0.20885407],\n",
       "       [0.24984968, 0.25821647],\n",
       "       [0.24048296, 0.21219607],\n",
       "       [0.33210977, 0.2058802 ]])"
      ]
     },
     "execution_count": 19,
     "metadata": {},
     "output_type": "execute_result"
    }
   ],
   "source": [
    "sol.candidates_list[0]"
   ]
  },
  {
   "cell_type": "code",
   "execution_count": 20,
   "metadata": {},
   "outputs": [
    {
     "data": {
      "text/plain": [
       "array([0.1       , 0.2       , 0.1308709 , 0.34271668, 0.4       ,\n",
       "       0.3       , 0.        , 0.        , 0.        , 0.        ])"
      ]
     },
     "execution_count": 20,
     "metadata": {},
     "output_type": "execute_result"
    }
   ],
   "source": [
    "sol.w_best"
   ]
  },
  {
   "cell_type": "code",
   "execution_count": null,
   "metadata": {},
   "outputs": [],
   "source": []
  },
  {
   "cell_type": "code",
   "execution_count": 14,
   "metadata": {},
   "outputs": [
    {
     "data": {
      "image/png": "[encoded data removed]",
      "text/plain": [
       "<Figure size 432x432 with 2 Axes>"
      ]
     },
     "metadata": {
      "needs_background": "light"
     },
     "output_type": "display_data"
    },
    {
     "data": {
      "image/png": "[encoded data removed]",
      "text/plain": [
       "<Figure size 864x216 with 1 Axes>"
      ]
     },
     "metadata": {
      "needs_background": "light"
     },
     "output_type": "display_data"
    },
    {
     "data": {
      "image/png": "[encoded data removed]",
      "text/plain": [
       "<Figure size 864x216 with 1 Axes>"
      ]
     },
     "metadata": {
      "needs_background": "light"
     },
     "output_type": "display_data"
    }
   ],
   "source": [
    "plt.figure(figsize=(6,6))\n",
    "\n",
    "plt.xlim([q_min[0], q_max[0]])\n",
    "plt.ylim([q_min[1], q_max[1]])\n",
    "ax = plt.axes()\n",
    "\n",
    "plt.scatter([q0[0], qd[0]],[q0[1], qd[1]])\n",
    "for pol in env.poly_list:\n",
    "    ax.add_patch(patches.Polygon(pol, facecolor = 'gray'))\n",
    "\n",
    "plt.plot(pos[:,0], pos[:,1])\n",
    "plt.tight_layout()\n",
    "\n",
    "plt.figure(figsize=(12, 3))\n",
    "plt.grid()\n",
    "plt.title('Velocity Profile')\n",
    "plt.plot(t_traj, vel)\n",
    "plt.tight_layout()\n",
    "\n",
    "plt.figure(figsize=(12, 3))\n",
    "plt.grid()\n",
    "plt.title('Acceleration Profile')\n",
    "plt.plot(t_traj, acc)\n",
    "plt.tight_layout()"
   ]
  },
  {
   "cell_type": "code",
   "execution_count": null,
   "metadata": {},
   "outputs": [],
   "source": []
  }
 ],
 "metadata": {
  "kernelspec": {
   "display_name": "Python 3 (ipykernel)",
   "language": "python",
   "name": "python3"
  },
  "language_info": {
   "codemirror_mode": {
    "name": "ipython",
    "version": 3
   },
   "file_extension": ".py",
   "mimetype": "text/x-python",
   "name": "python",
   "nbconvert_exporter": "python",
   "pygments_lexer": "ipython3",
   "version": "3.9.7"
  }
 },
 "nbformat": 4,
 "nbformat_minor": 4
}
