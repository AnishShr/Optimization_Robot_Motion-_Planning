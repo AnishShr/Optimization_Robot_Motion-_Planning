{
 "cells": [
  {
   "cell_type": "code",
   "execution_count": 1,
   "metadata": {},
   "outputs": [],
   "source": [
    "import numpy as np\n",
    "from vpsto.vpsto import VPSTO, VPSTOOptions\n",
    "import matplotlib.pyplot as plt\n",
    "import matplotlib.patches as patches\n",
    "from shapely.geometry import Polygon, MultiPolygon, LineString"
   ]
  },
  {
   "cell_type": "code",
   "execution_count": 2,
   "metadata": {},
   "outputs": [],
   "source": [
    "# Define some polygons for creating a collision environment\n",
    "class CollisionEnvironment():\n",
    "    def __init__(self):\n",
    "        self.poly_list = []\n",
    "        self.poly_list.append(np.array([[0.1, 0.13], [0.23, 0.12], [0.19, 0.28], [0.1, 0.32], [0.16, 0.2]]))\n",
    "        self.poly_list.append(np.array([[0.25, 0.34], [0.31, 0.35], [0.32, 0.41], [0.27, 0.44], [0.23, 0.4]]))\n",
    "        self.poly_list.append(np.array([[0.35, 0.12], [0.38, 0.1], [0.41, 0.11], [0.42, 0.21], [0.35, 0.24]]))\n",
    "        self.multi_poly = MultiPolygon([Polygon(self.poly_list[0]), Polygon(self.poly_list[1]), Polygon(self.poly_list[2])])\n",
    "        \n",
    "    def getTrajDist(self, pts):\n",
    "        return self.multi_poly.intersection(LineString(pts)).length"
   ]
  },
  {
   "cell_type": "code",
   "execution_count": 3,
   "metadata": {},
   "outputs": [],
   "source": [
    "q_min = 0.0*np.ones(2)\n",
    "q_max = 0.5*np.ones(2)\n",
    "def loss_limits(candidates):\n",
    "    q = candidates['pos']\n",
    "    d_min = np.maximum(np.zeros_like(q), - q + q_min)\n",
    "    d_max = np.maximum(np.zeros_like(q), q - q_max)\n",
    "    return np.sum(d_min > 0.0, axis=(1,2)) + np.sum(d_max > 0.0, axis=(1,2))\n",
    "\n",
    "env = CollisionEnvironment()\n",
    "def loss_collision(candidates): \n",
    "    costs = []\n",
    "    for traj in candidates['pos']:\n",
    "        costs.append(env.getTrajDist(traj))\n",
    "    costs = np.array(costs)\n",
    "    costs += costs > 0.0\n",
    "    return costs\n",
    "\n",
    "def loss_curvature(candidates):\n",
    "    dq = candidates['vel']\n",
    "    ddq = candidates['acc']\n",
    "    dq_sq = np.sum(dq**2, axis=-1)\n",
    "    ddq_sq = np.sum(ddq**2, axis=-1)\n",
    "    dq_ddq = np.sum(dq*ddq, axis=-1) \n",
    "    return np.mean((dq_sq * ddq_sq - dq_ddq**2) / (dq_sq**3 + 1e-6), axis=-1)\n",
    "\n",
    "xd = 0.48\n",
    "tolerance = 1e-3\n",
    "def loss_target(candidates):\n",
    "    q = candidates['pos']\n",
    "    costs = np.abs(q[:,-1,0] - xd)\n",
    "    costs += costs > tolerance\n",
    "    return costs\n",
    "\n",
    "def loss(candidates):\n",
    "    cost_curvature = loss_curvature(candidates)\n",
    "    cost_collision = loss_collision(candidates)\n",
    "    cost_limits = loss_limits(candidates)\n",
    "    cost_target = loss_target(candidates)\n",
    "    return candidates['T'] + 1e-3 * cost_curvature + 1e3 * cost_collision + 1e3 * cost_limits + 1e2 * cost_target"
   ]
  },
  {
   "cell_type": "code",
   "execution_count": null,
   "metadata": {},
   "outputs": [],
   "source": [
    "# traj_opt = VPSTO(ndof=2)\n",
    "\n",
    "# traj_opt.opt.N_via = 5\n",
    "# traj_opt.opt.vel_lim = np.array([0.1, 0.1])\n",
    "# traj_opt.opt.acc_lim = np.array([0.5, 0.5])\n",
    "# traj_opt.opt.max_iter = 200"
   ]
  },
  {
   "cell_type": "code",
   "execution_count": 4,
   "metadata": {},
   "outputs": [],
   "source": [
    "opt = VPSTOOptions(ndof=2)\n",
    "opt.N_via = 2\n",
    "opt.N_eval = 50\n",
    "opt.pop_size = 100\n",
    "opt.log = True\n",
    "traj_opt = VPSTO(opt)"
   ]
  },
  {
   "cell_type": "code",
   "execution_count": 7,
   "metadata": {},
   "outputs": [],
   "source": [
    "traj_opt.ndof = 2"
   ]
  },
  {
   "cell_type": "code",
   "execution_count": 5,
   "metadata": {},
   "outputs": [],
   "source": [
    "q0 = np.array([0.15, 0.2]) # robot position"
   ]
  },
  {
   "cell_type": "code",
   "execution_count": null,
   "metadata": {},
   "outputs": [],
   "source": []
  },
  {
   "cell_type": "code",
   "execution_count": 8,
   "metadata": {},
   "outputs": [
    {
     "name": "stdout",
     "output_type": "stream",
     "text": [
      "Either T or dqT must be given. Setting dqT to zero.\n",
      "VP-STO finished after 165 iterations with a final loss of 9.403946707573954\n"
     ]
    },
    {
     "ename": "AttributeError",
     "evalue": "'VPSTOSolution' object has no attribute 'get_trajectory'",
     "output_type": "error",
     "traceback": [
      "\u001b[0;31m---------------------------------------------------------------------------\u001b[0m",
      "\u001b[0;31mAttributeError\u001b[0m                            Traceback (most recent call last)",
      "\u001b[0;32m/tmp/ipykernel_7139/694893174.py\u001b[0m in \u001b[0;36m<module>\u001b[0;34m\u001b[0m\n\u001b[1;32m      2\u001b[0m \u001b[0;34m\u001b[0m\u001b[0m\n\u001b[1;32m      3\u001b[0m \u001b[0mt_traj\u001b[0m \u001b[0;34m=\u001b[0m \u001b[0mnp\u001b[0m\u001b[0;34m.\u001b[0m\u001b[0mlinspace\u001b[0m\u001b[0;34m(\u001b[0m\u001b[0;36m0\u001b[0m\u001b[0;34m,\u001b[0m \u001b[0msol\u001b[0m\u001b[0;34m.\u001b[0m\u001b[0mT_best\u001b[0m\u001b[0;34m,\u001b[0m \u001b[0;36m1000\u001b[0m\u001b[0;34m)\u001b[0m\u001b[0;34m\u001b[0m\u001b[0;34m\u001b[0m\u001b[0m\n\u001b[0;32m----> 4\u001b[0;31m \u001b[0mpos\u001b[0m\u001b[0;34m,\u001b[0m \u001b[0mvel\u001b[0m\u001b[0;34m,\u001b[0m \u001b[0macc\u001b[0m \u001b[0;34m=\u001b[0m \u001b[0msol\u001b[0m\u001b[0;34m.\u001b[0m\u001b[0mget_trajectory\u001b[0m\u001b[0;34m(\u001b[0m\u001b[0mt_traj\u001b[0m\u001b[0;34m)\u001b[0m\u001b[0;34m\u001b[0m\u001b[0;34m\u001b[0m\u001b[0m\n\u001b[0m\u001b[1;32m      5\u001b[0m \u001b[0;34m\u001b[0m\u001b[0m\n\u001b[1;32m      6\u001b[0m \u001b[0mprint\u001b[0m\u001b[0;34m(\u001b[0m\u001b[0;34m'Movement duration: '\u001b[0m\u001b[0;34m,\u001b[0m \u001b[0msol\u001b[0m\u001b[0;34m.\u001b[0m\u001b[0mT_best\u001b[0m\u001b[0;34m)\u001b[0m\u001b[0;34m\u001b[0m\u001b[0;34m\u001b[0m\u001b[0m\n",
      "\u001b[0;31mAttributeError\u001b[0m: 'VPSTOSolution' object has no attribute 'get_trajectory'"
     ]
    }
   ],
   "source": [
    "sol = traj_opt.minimize(loss, q0=q0)\n",
    "\n",
    "t_traj = np.linspace(0, sol.T_best, 1000)\n",
    "pos, vel, acc = sol.get_trajectory(t_traj)\n",
    "\n",
    "\n",
    "\n",
    "print('Movement duration: ', sol.T_best)"
   ]
  },
  {
   "cell_type": "code",
   "execution_count": 14,
   "metadata": {},
   "outputs": [
    {
     "name": "stdout",
     "output_type": "stream",
     "text": [
      "9.40253228040651\n"
     ]
    }
   ],
   "source": [
    "print(sol.T_best)"
   ]
  },
  {
   "cell_type": "code",
   "execution_count": 15,
   "metadata": {},
   "outputs": [
    {
     "ename": "NameError",
     "evalue": "name 'pos' is not defined",
     "output_type": "error",
     "traceback": [
      "\u001b[0;31m---------------------------------------------------------------------------\u001b[0m",
      "\u001b[0;31mNameError\u001b[0m                                 Traceback (most recent call last)",
      "\u001b[0;32m/tmp/ipykernel_7139/1037971688.py\u001b[0m in \u001b[0;36m<module>\u001b[0;34m\u001b[0m\n\u001b[1;32m     10\u001b[0m     \u001b[0max\u001b[0m\u001b[0;34m.\u001b[0m\u001b[0madd_patch\u001b[0m\u001b[0;34m(\u001b[0m\u001b[0mpatches\u001b[0m\u001b[0;34m.\u001b[0m\u001b[0mPolygon\u001b[0m\u001b[0;34m(\u001b[0m\u001b[0mpol\u001b[0m\u001b[0;34m,\u001b[0m \u001b[0mfacecolor\u001b[0m \u001b[0;34m=\u001b[0m \u001b[0;34m'gray'\u001b[0m\u001b[0;34m)\u001b[0m\u001b[0;34m)\u001b[0m\u001b[0;34m\u001b[0m\u001b[0;34m\u001b[0m\u001b[0m\n\u001b[1;32m     11\u001b[0m \u001b[0;34m\u001b[0m\u001b[0m\n\u001b[0;32m---> 12\u001b[0;31m \u001b[0mplt\u001b[0m\u001b[0;34m.\u001b[0m\u001b[0mplot\u001b[0m\u001b[0;34m(\u001b[0m\u001b[0mpos\u001b[0m\u001b[0;34m[\u001b[0m\u001b[0;34m:\u001b[0m\u001b[0;34m,\u001b[0m\u001b[0;36m0\u001b[0m\u001b[0;34m]\u001b[0m\u001b[0;34m,\u001b[0m \u001b[0mpos\u001b[0m\u001b[0;34m[\u001b[0m\u001b[0;34m:\u001b[0m\u001b[0;34m,\u001b[0m\u001b[0;36m1\u001b[0m\u001b[0;34m]\u001b[0m\u001b[0;34m)\u001b[0m\u001b[0;34m\u001b[0m\u001b[0;34m\u001b[0m\u001b[0m\n\u001b[0m\u001b[1;32m     13\u001b[0m \u001b[0mplt\u001b[0m\u001b[0;34m.\u001b[0m\u001b[0mtight_layout\u001b[0m\u001b[0;34m(\u001b[0m\u001b[0;34m)\u001b[0m\u001b[0;34m\u001b[0m\u001b[0;34m\u001b[0m\u001b[0m\n\u001b[1;32m     14\u001b[0m \u001b[0;34m\u001b[0m\u001b[0m\n",
      "\u001b[0;31mNameError\u001b[0m: name 'pos' is not defined"
     ]
    },
    {
     "data": {
      "image/png": "[encoded data removed]",
      "text/plain": [
       "<Figure size 432x432 with 2 Axes>"
      ]
     },
     "metadata": {
      "needs_background": "light"
     },
     "output_type": "display_data"
    }
   ],
   "source": [
    "plt.figure(figsize=(6,6))\n",
    "\n",
    "plt.xlim([q_min[0], q_max[0]])\n",
    "plt.ylim([q_min[1], q_max[1]])\n",
    "ax = plt.axes()\n",
    "\n",
    "plt.scatter(q0[0],q0[1])\n",
    "plt.plot([xd, xd], [0.0, 0.5], 'k--')\n",
    "for pol in env.poly_list:\n",
    "    ax.add_patch(patches.Polygon(pol, facecolor = 'gray'))\n",
    "\n",
    "plt.plot(pos[:,0], pos[:,1])\n",
    "plt.tight_layout()\n",
    "\n",
    "plt.figure(figsize=(12, 3))\n",
    "plt.grid()\n",
    "plt.title('Velocity Profile')\n",
    "plt.plot(t_traj, vel)\n",
    "plt.tight_layout()\n",
    "\n",
    "plt.figure(figsize=(12, 3))\n",
    "plt.grid()\n",
    "plt.title('Acceleration Profile')\n",
    "plt.plot(t_traj, acc)\n",
    "plt.tight_layout()"
   ]
  }
 ],
 "metadata": {
  "kernelspec": {
   "display_name": "Python 3 (ipykernel)",
   "language": "python",
   "name": "python3"
  },
  "language_info": {
   "codemirror_mode": {
    "name": "ipython",
    "version": 3
   },
   "file_extension": ".py",
   "mimetype": "text/x-python",
   "name": "python",
   "nbconvert_exporter": "python",
   "pygments_lexer": "ipython3",
   "version": "3.9.7"
  }
 },
 "nbformat": 4,
 "nbformat_minor": 4
}
