{
 "cells": [
  {
   "cell_type": "code",
   "execution_count": null,
   "id": "124f8864",
   "metadata": {},
   "outputs": [],
   "source": [
    "import numpy as np\n",
    "from vpsto import VPSTO\n",
    "\n",
    "def loss(candidates): # Implement a pure time-optimality loss\n",
    "    return candidates['T']\n",
    "\n",
    "vpsto = VPSTO(ndof=7)\n",
    "vpsto.opt.vel_lim = np.array([1., 1., 1., 1., 0.5, 0.5, 0.5]) # max. rad/s for each DoF\n",
    "vpsto.opt.acc_lim = np.array([15., 7.5, 10., 12.5, 15., 20., 20.]) # max. rad/s^2 for each DoF\n",
    "\n",
    "q0 = np.zeros(7) # Current robot configuration\n",
    "qT = np.ones(7)  # Desired robot configuration\n",
    "\n",
    "solution = vpsto.minimize(loss, q0, qT)\n",
    "movement_duration = solution.T_best\n",
    "pos, vel, acc = solution.get_trajectory(np.linspace(0, movement_duration, int(movement_duration*1000))) # Sample solution traj. with 1 ms resolution"
   ]
  }
 ],
 "metadata": {
  "kernelspec": {
   "display_name": "Python 3 (ipykernel)",
   "language": "python",
   "name": "python3"
  },
  "language_info": {
   "codemirror_mode": {
    "name": "ipython",
    "version": 3
   },
   "file_extension": ".py",
   "mimetype": "text/x-python",
   "name": "python",
   "nbconvert_exporter": "python",
   "pygments_lexer": "ipython3",
   "version": "3.9.7"
  }
 },
 "nbformat": 4,
 "nbformat_minor": 5
}
