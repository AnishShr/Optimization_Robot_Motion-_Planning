{
 "cells": [
  {
   "cell_type": "code",
   "execution_count": 1,
   "id": "4ab66294",
   "metadata": {},
   "outputs": [],
   "source": [
    "import numpy as np\n",
    "from vpsto.vpsto import VPSTO, VPSTOOptions, VPSTOSolution\n",
    "import matplotlib.pyplot as plt\n",
    "import matplotlib.patches as patches\n",
    "from shapely.geometry import Polygon, MultiPolygon, LineString"
   ]
  },
  {
   "cell_type": "code",
   "execution_count": 2,
   "id": "9884183d",
   "metadata": {},
   "outputs": [],
   "source": [
    "# # Define some polygons for creating a collision environment\n",
    "# class CollisionEnvironment():\n",
    "#     def __init__(self):\n",
    "#         self.poly_list = []\n",
    "#         self.poly_list.append(np.array([[0.1, 0.13], [0.23, 0.12], [0.19, 0.28], [0.1, 0.32], [0.16, 0.2]]))\n",
    "#         self.poly_list.append(np.array([[0.25, 0.34], [0.31, 0.35], [0.32, 0.41], [0.27, 0.44], [0.23, 0.4]]))\n",
    "#         self.poly_list.append(np.array([[0.35, 0.12], [0.38, 0.1], [0.41, 0.11], [0.42, 0.21], [0.35, 0.24]]))\n",
    "#         self.multi_poly = MultiPolygon([Polygon(self.poly_list[0]), Polygon(self.poly_list[1]), Polygon(self.poly_list[2])])\n",
    "        \n",
    "#     def getTrajDist(self, pts):\n",
    "#         return self.multi_poly.intersection(LineString(pts)).length"
   ]
  },
  {
   "cell_type": "code",
   "execution_count": 3,
   "id": "dcd50dcd",
   "metadata": {},
   "outputs": [
    {
     "data": {
      "image/png": "[encoded data removed]",
      "text/plain": [
       "<Figure size 864x576 with 1 Axes>"
      ]
     },
     "metadata": {
      "needs_background": "light"
     },
     "output_type": "display_data"
    }
   ],
   "source": [
    "obs_x = [30, 60]\n",
    "obs_y = [1, -2]\n",
    "\n",
    "obs_a = 3\n",
    "obs_b = 0.5\n",
    "\n",
    "x_init, y_init = [0, 0]\n",
    "x_final, y_final = [100, 0]\n",
    "\n",
    "x_lim = [0, 150]\n",
    "y_lim = [-8, 8]\n",
    "\n",
    "plt.figure(figsize=(12, 8))\n",
    "\n",
    "t = np.linspace(0, 2*np.pi, 100)\n",
    "for i in range(len(obs_x)):\n",
    "  plt.plot(obs_x[i]+obs_a*np.cos(t) , obs_y[i]+obs_b*np.sin(t) , \"--\", color=\"black\")\n",
    "\n",
    "plt.plot(x_init+obs_a*np.cos(t) , y_init+obs_b*np.sin(t) , \"--\", color=\"red\")\n",
    "plt.scatter(x_final, y_final)\n",
    "\n",
    "plt.xlim([-5, 110])\n",
    "plt.ylim([-10, 10])\n",
    "\n",
    "plt.grid()\n",
    "plt.show()"
   ]
  },
  {
   "cell_type": "code",
   "execution_count": 4,
   "id": "70144d51",
   "metadata": {},
   "outputs": [],
   "source": [
    "def compute_cumutative_collision_cost(x, y, obs_x, obs_y, obs_a, obs_b):\n",
    "    obs_x = np.array(obs_x).reshape(len(obs_x), 1)\n",
    "    obs_y = np.array(obs_y).reshape(len(obs_y), 1)\n",
    "\n",
    "    # cost_collision = -((x - obs_x[:, np.newaxis])/((2*obs_a)))**2 - ((y - obs_y[:, np.newaxis])/(obs_b))**2 + 1\n",
    "    cost_collision = np.maximum(np.zeros(x.shape), -((x - obs_x[:, np.newaxis])/((2*obs_a)))**2 - ((y - obs_y[:, np.newaxis])/(2*obs_b))**2 + 1) \n",
    "    \n",
    "\n",
    "    # print(cost_collision.shape)\n",
    "    cost_collision_combined = np.sum(cost_collision, axis=0)\n",
    "    # print(cost_collision_combined.shape)\n",
    "    \n",
    "    final_cost_collision = cost_collision_combined[0]    \n",
    "\n",
    "    return final_cost_collision"
   ]
  },
  {
   "cell_type": "code",
   "execution_count": 5,
   "id": "a55bab6d",
   "metadata": {},
   "outputs": [],
   "source": [
    "def compute_collision_loss(candidates):\n",
    "    costs = []\n",
    "    for traj in candidates['pos']:\n",
    "        points_x = traj[:, 0]\n",
    "        points_y = traj[:, 1]\n",
    "        \n",
    "        costs.append(compute_cumutative_collision_cost(points_x,\n",
    "                                                       points_y,\n",
    "                                                       obs_x,\n",
    "                                                       obs_y,\n",
    "                                                       obs_a, \n",
    "                                                       obs_b))\n",
    "        costs = np.array(costs)\n",
    "        return costs"
   ]
  },
  {
   "cell_type": "code",
   "execution_count": 6,
   "id": "67457051",
   "metadata": {},
   "outputs": [],
   "source": [
    "# q_min = 0.0*np.ones(2)\n",
    "# q_max = 0.5*np.ones(2)\n",
    "q_min = np.array([0, -10])\n",
    "q_max = np.array([10000, 10])\n",
    "\n",
    "def loss_limits(candidates):\n",
    "    q = candidates['pos']\n",
    "    d_min = np.maximum(np.zeros_like(q), - q + q_min)\n",
    "    d_max = np.maximum(np.zeros_like(q), q - q_max)\n",
    "#     return np.sum(d_min > 0.0, axis=(1,2)) + np.sum(d_max > 0.0, axis=(1,2))\n",
    "    return np.sum(d_min, axis=(1,2)) + np.sum(d_max, axis=(1,2)) \n",
    "\n",
    "# env = CollisionEnvironment()\n",
    "# def loss_collision(candidates): \n",
    "#     costs = []\n",
    "#     for traj in candidates['pos']:\n",
    "#         costs.append(env.getTrajDist(traj))\n",
    "#     costs = np.array(costs)\n",
    "#     costs += costs > 0.0\n",
    "#     return costs\n",
    "\n",
    "def collision_loss(candidates):\n",
    "    costs = []\n",
    "    for traj in candidates['pos']:\n",
    "        cost = compute_cumutative_collision_cost(traj[:, 0],\n",
    "                                            traj[:, 1],\n",
    "                                            obs_x,\n",
    "                                            obs_y,\n",
    "                                            obs_a, \n",
    "                                            obs_b) \n",
    "    \n",
    "        cost = np.sum(cost)\n",
    "    \n",
    "        costs.append(cost)\n",
    "    \n",
    "    costs = np.array(costs)\n",
    "    return costs\n",
    "\n",
    "def loss_path_offset(candidates):\n",
    "    costs = []\n",
    "    for traj in candidates['pos']:\n",
    "        cost = np.sum(traj[:, 1]**2)\n",
    "        costs.append(cost)\n",
    "    costs = np.array(costs)\n",
    "    return costs\n",
    "\n",
    "def loss_curvature(candidates):\n",
    "    dq = candidates['vel']\n",
    "    ddq = candidates['acc']\n",
    "    dq_sq = np.sum(dq**2, axis=-1)\n",
    "    ddq_sq = np.sum(ddq**2, axis=-1)\n",
    "    dq_ddq = np.sum(dq*ddq, axis=-1) \n",
    "    return np.mean((dq_sq * ddq_sq - dq_ddq**2) / (dq_sq**3 + 1e-6), axis=-1)\n",
    "\n",
    "def loss(candidates):\n",
    "    cost_curvature = loss_curvature(candidates)\n",
    "    print(cost_curvature.shape)\n",
    "#     cost_collision = loss_collision(candidates)\n",
    "    cost_collision = collision_loss(candidates)\n",
    "    print(cost_collision.shape)\n",
    "    cost_limits = loss_limits(candidates)\n",
    "    print(cost_limits.shape)\n",
    "    cost_path_offset = loss_path_offset(candidates)\n",
    "    return candidates['T'] + \\\n",
    "           1e-3 * cost_curvature + \\\n",
    "           1e3 * cost_collision + \\\n",
    "           1e3 * cost_limits +\n",
    "           cost_path_offset"
   ]
  },
  {
   "cell_type": "code",
   "execution_count": 7,
   "id": "05a44467",
   "metadata": {},
   "outputs": [],
   "source": [
    "opt = VPSTOOptions(ndof=2)\n",
    "opt.N_via = 3\n",
    "opt.N_eval = 100\n",
    "opt.pop_size = 100\n",
    "opt.log = True\n",
    "opt.vel_lim = np.array([40.0, 5.0])\n",
    "opt.acc_lim = np.array([20.0, 5.0])"
   ]
  },
  {
   "cell_type": "code",
   "execution_count": 8,
   "id": "5c1ba130",
   "metadata": {},
   "outputs": [],
   "source": [
    "traj_opt = VPSTO(opt)\n",
    "traj_opt.ndof = 2"
   ]
  },
  {
   "cell_type": "code",
   "execution_count": 9,
   "id": "8ee551bc",
   "metadata": {},
   "outputs": [
    {
     "data": {
      "text/plain": [
       "array([40.,  5.])"
      ]
     },
     "execution_count": 9,
     "metadata": {},
     "output_type": "execute_result"
    }
   ],
   "source": [
    "opt.vel_lim"
   ]
  },
  {
   "cell_type": "code",
   "execution_count": 10,
   "id": "82bc2909",
   "metadata": {},
   "outputs": [],
   "source": [
    "x_init = 20.0\n",
    "y_init = 0.0\n",
    "\n",
    "x_final = 100.0\n",
    "y_final = 0.0\n",
    "\n",
    "q0 = np.array([x_init, y_init])\n",
    "qd = np.array([x_final, y_final])"
   ]
  },
  {
   "cell_type": "code",
   "execution_count": 11,
   "id": "9e68cd84",
   "metadata": {},
   "outputs": [],
   "source": [
    "# q0 = np.array([0.1, 0.2]) # robot position\n",
    "# qd = np.array([0.4, 0.3])  # desired robot position"
   ]
  },
  {
   "cell_type": "code",
   "execution_count": 12,
   "id": "4e632ee7",
   "metadata": {},
   "outputs": [],
   "source": [
    "# q0 = np.array([0.0, 0.0])\n",
    "# qd = np.array([100.0, 0.0])"
   ]
  },
  {
   "cell_type": "code",
   "execution_count": 13,
   "id": "2acd8c70",
   "metadata": {},
   "outputs": [],
   "source": [
    "dq0 = np.array([10.0, 0.0])\n",
    "dqT = np.array([10.0, 0.0])"
   ]
  },
  {
   "cell_type": "code",
   "execution_count": 14,
   "id": "b0256525",
   "metadata": {},
   "outputs": [
    {
     "name": "stdout",
     "output_type": "stream",
     "text": [
      "(100,)\n",
      "(100,)\n",
      "(100,)\n",
      "(100,)TO iteration: 0 Current loss: 3.4465593342823277\n",
      "(100,)\n",
      "(100,)\n",
      "(100,)TO iteration: 1 Current loss: 3.41950811089986\n",
      "(100,)\n",
      "(100,)\n",
      "(100,)TO iteration: 2 Current loss: 3.335427939835233\n",
      "(100,)\n",
      "(100,)\n",
      "(100,)TO iteration: 3 Current loss: 3.172604532371623\n",
      "(100,)\n",
      "(100,)\n",
      "(100,)TO iteration: 4 Current loss: 3.172604532371623\n",
      "(100,)\n",
      "(100,)\n",
      "(100,)TO iteration: 5 Current loss: 3.172604532371623\n",
      "(100,)\n",
      "(100,)\n",
      "(100,)TO iteration: 6 Current loss: 3.172604532371623\n",
      "(100,)\n",
      "(100,)\n",
      "(100,)TO iteration: 7 Current loss: 3.1725463421407993\n",
      "(100,)\n",
      "(100,)\n",
      "(100,)TO iteration: 8 Current loss: 3.1687802684585535\n",
      "(100,)\n",
      "(100,)\n",
      "(100,)TO iteration: 9 Current loss: 3.1687802684585535\n",
      "(100,)\n",
      "(100,)\n",
      "(100,)TO iteration: 10 Current loss: 3.1687802684585535\n",
      "(100,)\n",
      "(100,)\n",
      "(100,)TO iteration: 11 Current loss: 3.1684016279294895\n",
      "(100,)\n",
      "(100,)\n",
      "(100,)TO iteration: 12 Current loss: 3.168349196362644\n",
      "(100,)\n",
      "(100,)\n",
      "(100,)TO iteration: 13 Current loss: 3.168208232856463\n",
      "(100,)\n",
      "(100,)\n",
      "(100,)TO iteration: 14 Current loss: 3.168104924155613\n",
      "(100,)\n",
      "(100,)\n",
      "(100,)TO iteration: 15 Current loss: 3.1680021987017604\n",
      "(100,)\n",
      "(100,)\n",
      "(100,)TO iteration: 16 Current loss: 3.1679985885172517\n",
      "(100,)\n",
      "(100,)\n",
      "(100,)TO iteration: 17 Current loss: 3.1679726476020558\n",
      "(100,)\n",
      "(100,)\n",
      "(100,)TO iteration: 18 Current loss: 3.1679661429825527\n",
      "(100,)\n",
      "(100,)\n",
      "(100,)TO iteration: 19 Current loss: 3.1679661429825527\n",
      "(100,)\n",
      "(100,)\n",
      "(100,)TO iteration: 20 Current loss: 3.1679439450291262\n",
      "(100,)\n",
      "(100,)\n",
      "(100,)TO iteration: 21 Current loss: 3.1679439450291262\n",
      "(100,)\n",
      "(100,)\n",
      "(100,)TO iteration: 22 Current loss: 3.1679414487812494\n",
      "(100,)\n",
      "(100,)\n",
      "(100,)TO iteration: 23 Current loss: 3.1679414487812494\n",
      "(100,)\n",
      "(100,)\n",
      "(100,)TO iteration: 24 Current loss: 3.167937130270953\n",
      "(100,)\n",
      "(100,)\n",
      "(100,)TO iteration: 25 Current loss: 3.167937130270953\n",
      "(100,)\n",
      "(100,)\n",
      "(100,)TO iteration: 26 Current loss: 3.167937130270953\n",
      "(100,)\n",
      "(100,)\n",
      "(100,)TO iteration: 27 Current loss: 3.167937130270953\n",
      "(100,)\n",
      "(100,)\n",
      "(100,)TO iteration: 28 Current loss: 3.167937130270953\n",
      "(100,)\n",
      "(100,)\n",
      "(100,)TO iteration: 29 Current loss: 3.167937130270953\n",
      "(100,)\n",
      "(100,)\n",
      "(100,)TO iteration: 30 Current loss: 3.1679370548910155\n",
      "(100,)\n",
      "(100,)\n",
      "(100,)TO iteration: 31 Current loss: 3.1679370364212125\n",
      "(100,)\n",
      "(100,)\n",
      "(100,)TO iteration: 32 Current loss: 3.1679368679798126\n",
      "(100,)\n",
      "(100,)\n",
      "(100,)TO iteration: 33 Current loss: 3.167936819593645\n",
      "(100,)\n",
      "(100,)\n",
      "(100,)TO iteration: 34 Current loss: 3.167936819593645\n",
      "(100,)\n",
      "(100,)\n",
      "(100,)TO iteration: 35 Current loss: 3.167936819593645\n",
      "(100,)\n",
      "(100,)\n",
      "(100,)TO iteration: 36 Current loss: 3.167936819593645\n",
      "(100,)\n",
      "(100,)\n",
      "(100,)TO iteration: 37 Current loss: 3.167936819539406\n",
      "(100,)\n",
      "(100,)\n",
      "VP-STO finished after 39 iterations with a final loss of 3.167936819539406\n",
      "Movement duration:  3.167936814094885\n"
     ]
    }
   ],
   "source": [
    "sol = traj_opt.minimize(loss, q0=q0, qT=qd, dq0=dq0, dqT=dqT)\n",
    "\n",
    "t_traj = np.linspace(0, sol.T_best, 1000)\n",
    "# pos, vel, acc = sol.get_trajectory(t_traj)\n",
    "pos, vel, acc = sol.get_posvelacc(t_traj)\n",
    "\n",
    "print('Movement duration: ', sol.T_best)"
   ]
  },
  {
   "cell_type": "code",
   "execution_count": 15,
   "id": "7203a0a1",
   "metadata": {
    "scrolled": true
   },
   "outputs": [
    {
     "data": {
      "text/plain": [
       "[]"
      ]
     },
     "execution_count": 15,
     "metadata": {},
     "output_type": "execute_result"
    },
    {
     "data": {
      "image/png": "[encoded data removed]",
      "text/plain": [
       "<Figure size 864x576 with 1 Axes>"
      ]
     },
     "metadata": {
      "needs_background": "light"
     },
     "output_type": "display_data"
    }
   ],
   "source": [
    "plt.figure(figsize=(12,8))\n",
    "\n",
    "# plt.xlim([q_min[0], q_max[0]])\n",
    "# plt.ylim([q_min[1], q_max[1]])\n",
    "# ax = plt.axes()\n",
    "\n",
    "plt.scatter([q0[0], qd[0]],[q0[1], qd[1]])\n",
    "# for pol in env.poly_list:\n",
    "#     ax.add_patch(patches.Polygon(pol, facecolor = 'gray'))\n",
    "for i in range(len(obs_x)):\n",
    "  plt.plot(obs_x[i]+obs_a*np.cos(t) , obs_y[i]+obs_b*np.sin(t) , \"--\", color=\"black\")\n",
    "\n",
    "plt.plot(x_init+obs_a*np.cos(t) , y_init+obs_b*np.sin(t) , \"--\", color=\"red\")\n",
    "plt.scatter(x_final, y_final)\n",
    "\n",
    "plt.plot(pos[:,0], pos[:,1])\n",
    "\n",
    "plt.xlim([-5, 110])\n",
    "plt.ylim([-10, 10])\n",
    "plt.grid()\n",
    "plt.plot()\n",
    "# plt.tight_layout()"
   ]
  },
  {
   "cell_type": "code",
   "execution_count": 16,
   "id": "d5bee2a5",
   "metadata": {},
   "outputs": [
    {
     "data": {
      "text/plain": [
       "array([[ 2.00000000e+01,  0.00000000e+00],\n",
       "       [ 2.00318116e+01, -6.83626874e-06],\n",
       "       [ 2.00638244e+01, -2.72922170e-05],\n",
       "       ...,\n",
       "       [ 9.99361756e+01,  7.67994424e-06],\n",
       "       [ 9.99681884e+01,  1.92581640e-06],\n",
       "       [ 1.00000000e+02,  2.97866762e-17]])"
      ]
     },
     "execution_count": 16,
     "metadata": {},
     "output_type": "execute_result"
    }
   ],
   "source": [
    "pos"
   ]
  },
  {
   "cell_type": "code",
   "execution_count": 17,
   "id": "5b0eac39",
   "metadata": {},
   "outputs": [
    {
     "data": {
      "text/plain": [
       "array([[ 1.00000000e+01,  0.00000000e+00],\n",
       "       [ 1.00634222e+01, -4.30742924e-03],\n",
       "       [ 1.01268443e+01, -8.58985558e-03],\n",
       "       ...,\n",
       "       [ 1.01268443e+01, -2.41449457e-03],\n",
       "       [ 1.00634222e+01, -1.21276303e-03],\n",
       "       [ 1.00000000e+01, -2.30584111e-18]])"
      ]
     },
     "execution_count": 17,
     "metadata": {},
     "output_type": "execute_result"
    }
   ],
   "source": [
    "vel"
   ]
  },
  {
   "cell_type": "code",
   "execution_count": 18,
   "id": "ebe498c2",
   "metadata": {},
   "outputs": [
    {
     "data": {
      "text/plain": [
       "array([[ 19.99999974,  -1.36227804],\n",
       "       [ 19.99999974,  -1.35439345],\n",
       "       [ 19.99999974,  -1.34650885],\n",
       "       ...,\n",
       "       [-19.99999949,   0.3772233 ],\n",
       "       [-19.99999949,   0.38070205],\n",
       "       [-19.99999949,   0.3841808 ]])"
      ]
     },
     "execution_count": 18,
     "metadata": {},
     "output_type": "execute_result"
    }
   ],
   "source": [
    "acc"
   ]
  },
  {
   "cell_type": "code",
   "execution_count": 19,
   "id": "04eedfe6",
   "metadata": {},
   "outputs": [
    {
     "data": {
      "image/png": "[encoded data removed]",
      "text/plain": [
       "<Figure size 864x216 with 1 Axes>"
      ]
     },
     "metadata": {
      "needs_background": "light"
     },
     "output_type": "display_data"
    }
   ],
   "source": [
    "plt.figure(figsize=(12, 3))\n",
    "plt.grid()\n",
    "plt.title('Velocity Profile')\n",
    "plt.plot(t_traj, vel)\n",
    "plt.tight_layout()"
   ]
  },
  {
   "cell_type": "code",
   "execution_count": 20,
   "id": "9036b17f",
   "metadata": {},
   "outputs": [
    {
     "data": {
      "image/png": "[encoded data removed]",
      "text/plain": [
       "<Figure size 864x216 with 1 Axes>"
      ]
     },
     "metadata": {
      "needs_background": "light"
     },
     "output_type": "display_data"
    }
   ],
   "source": [
    "plt.figure(figsize=(12, 3))\n",
    "plt.grid()\n",
    "plt.title('Acceleration Profile')\n",
    "plt.plot(t_traj, acc)\n",
    "plt.tight_layout()"
   ]
  }
 ],
 "metadata": {
  "kernelspec": {
   "display_name": "Python 3 (ipykernel)",
   "language": "python",
   "name": "python3"
  },
  "language_info": {
   "codemirror_mode": {
    "name": "ipython",
    "version": 3
   },
   "file_extension": ".py",
   "mimetype": "text/x-python",
   "name": "python",
   "nbconvert_exporter": "python",
   "pygments_lexer": "ipython3",
   "version": "3.9.7"
  }
 },
 "nbformat": 4,
 "nbformat_minor": 5
}
